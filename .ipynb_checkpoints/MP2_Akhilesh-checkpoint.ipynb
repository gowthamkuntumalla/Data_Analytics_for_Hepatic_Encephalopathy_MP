{
 "cells": [
  {
   "cell_type": "markdown",
   "metadata": {},
   "source": [
    "# ECE 498 DS Mini Project 2"
   ]
  },
  {
   "cell_type": "markdown",
   "metadata": {},
   "source": [
    "## Akhilesh Somani - somani4,\n",
    "## Gowtham Kuntumalla - gowtham4,\n",
    "## Manan Mehta - mananm2"
   ]
  },
  {
   "cell_type": "markdown",
   "metadata": {},
   "source": [
    "# Task 1: Data Cleaning and Visual Inspection"
   ]
  },
  {
   "cell_type": "markdown",
   "metadata": {},
   "source": [
    "## 0. Getting Started With the Data"
   ]
  },
  {
   "cell_type": "code",
   "execution_count": 1,
   "metadata": {},
   "outputs": [],
   "source": [
    "import numpy as np\n",
    "import pandas as pd\n",
    "import scipy as sp"
   ]
  },
  {
   "cell_type": "code",
   "execution_count": 11,
   "metadata": {},
   "outputs": [],
   "source": [
    "HE0_df=pd.read_csv(\"RelativeAbundance_HE0.csv\")"
   ]
  },
  {
   "cell_type": "code",
   "execution_count": 12,
   "metadata": {},
   "outputs": [
    {
     "data": {
      "text/html": [
       "<div>\n",
       "<style scoped>\n",
       "    .dataframe tbody tr th:only-of-type {\n",
       "        vertical-align: middle;\n",
       "    }\n",
       "\n",
       "    .dataframe tbody tr th {\n",
       "        vertical-align: top;\n",
       "    }\n",
       "\n",
       "    .dataframe thead th {\n",
       "        text-align: right;\n",
       "    }\n",
       "</style>\n",
       "<table border=\"1\" class=\"dataframe\">\n",
       "  <thead>\n",
       "    <tr style=\"text-align: right;\">\n",
       "      <th></th>\n",
       "      <th>Microbe Name</th>\n",
       "      <th>HE0Sample_0</th>\n",
       "      <th>HE0Sample_1</th>\n",
       "      <th>HE0Sample_2</th>\n",
       "      <th>HE0Sample_3</th>\n",
       "      <th>HE0Sample_4</th>\n",
       "      <th>HE0Sample_5</th>\n",
       "      <th>HE0Sample_6</th>\n",
       "      <th>HE0Sample_7</th>\n",
       "      <th>HE0Sample_8</th>\n",
       "      <th>...</th>\n",
       "      <th>HE0Sample_754</th>\n",
       "      <th>HE0Sample_755</th>\n",
       "      <th>HE0Sample_756</th>\n",
       "      <th>HE0Sample_757</th>\n",
       "      <th>HE0Sample_758</th>\n",
       "      <th>HE0Sample_759</th>\n",
       "      <th>HE0Sample_760</th>\n",
       "      <th>HE0Sample_761</th>\n",
       "      <th>HE0Sample_762</th>\n",
       "      <th>HE0Sample_763</th>\n",
       "    </tr>\n",
       "  </thead>\n",
       "  <tbody>\n",
       "    <tr>\n",
       "      <th>0</th>\n",
       "      <td>Acidobacteria_Acidobacteria_Gp1_Telmatobacter_...</td>\n",
       "      <td>0.004239</td>\n",
       "      <td>0.004345</td>\n",
       "      <td>0.004423</td>\n",
       "      <td>0.004463</td>\n",
       "      <td>0.005372</td>\n",
       "      <td>0.004136</td>\n",
       "      <td>0.004457</td>\n",
       "      <td>0.004049</td>\n",
       "      <td>0.004638</td>\n",
       "      <td>...</td>\n",
       "      <td>0.004464</td>\n",
       "      <td>0.004636</td>\n",
       "      <td>0.004046</td>\n",
       "      <td>0.005518</td>\n",
       "      <td>0.005073</td>\n",
       "      <td>0.003527</td>\n",
       "      <td>0.005413</td>\n",
       "      <td>0.003140</td>\n",
       "      <td>0.002998</td>\n",
       "      <td>0.004829</td>\n",
       "    </tr>\n",
       "    <tr>\n",
       "      <th>1</th>\n",
       "      <td>Acidobacteria_Acidobacteria_Gp3_Gp3_Gp3</td>\n",
       "      <td>0.013269</td>\n",
       "      <td>0.012312</td>\n",
       "      <td>0.011611</td>\n",
       "      <td>0.013033</td>\n",
       "      <td>0.013689</td>\n",
       "      <td>0.012752</td>\n",
       "      <td>0.009772</td>\n",
       "      <td>0.012148</td>\n",
       "      <td>0.013743</td>\n",
       "      <td>...</td>\n",
       "      <td>0.010603</td>\n",
       "      <td>0.013565</td>\n",
       "      <td>0.012139</td>\n",
       "      <td>0.012875</td>\n",
       "      <td>0.013294</td>\n",
       "      <td>0.014107</td>\n",
       "      <td>0.012694</td>\n",
       "      <td>0.013082</td>\n",
       "      <td>0.008244</td>\n",
       "      <td>0.010401</td>\n",
       "    </tr>\n",
       "    <tr>\n",
       "      <th>2</th>\n",
       "      <td>Actinobacteria_Actinobacteria_Acidimicrobiales...</td>\n",
       "      <td>0.003502</td>\n",
       "      <td>0.005251</td>\n",
       "      <td>0.006082</td>\n",
       "      <td>0.003749</td>\n",
       "      <td>0.004332</td>\n",
       "      <td>0.004136</td>\n",
       "      <td>0.004972</td>\n",
       "      <td>0.004930</td>\n",
       "      <td>0.004638</td>\n",
       "      <td>...</td>\n",
       "      <td>0.003906</td>\n",
       "      <td>0.002919</td>\n",
       "      <td>0.004782</td>\n",
       "      <td>0.006070</td>\n",
       "      <td>0.003498</td>\n",
       "      <td>0.004408</td>\n",
       "      <td>0.004853</td>\n",
       "      <td>0.004012</td>\n",
       "      <td>0.004310</td>\n",
       "      <td>0.005758</td>\n",
       "    </tr>\n",
       "    <tr>\n",
       "      <th>3</th>\n",
       "      <td>Actinobacteria_Actinobacteria_Actinomycetales_...</td>\n",
       "      <td>0.003870</td>\n",
       "      <td>0.005794</td>\n",
       "      <td>0.005345</td>\n",
       "      <td>0.004106</td>\n",
       "      <td>0.002946</td>\n",
       "      <td>0.003963</td>\n",
       "      <td>0.005315</td>\n",
       "      <td>0.003697</td>\n",
       "      <td>0.005326</td>\n",
       "      <td>...</td>\n",
       "      <td>0.005394</td>\n",
       "      <td>0.004979</td>\n",
       "      <td>0.004598</td>\n",
       "      <td>0.005518</td>\n",
       "      <td>0.005597</td>\n",
       "      <td>0.004761</td>\n",
       "      <td>0.004293</td>\n",
       "      <td>0.005233</td>\n",
       "      <td>0.004497</td>\n",
       "      <td>0.005386</td>\n",
       "    </tr>\n",
       "    <tr>\n",
       "      <th>4</th>\n",
       "      <td>Actinobacteria_Actinobacteria_Actinomycetales_...</td>\n",
       "      <td>0.004976</td>\n",
       "      <td>0.003802</td>\n",
       "      <td>0.004239</td>\n",
       "      <td>0.004285</td>\n",
       "      <td>0.005198</td>\n",
       "      <td>0.004136</td>\n",
       "      <td>0.003257</td>\n",
       "      <td>0.002993</td>\n",
       "      <td>0.003264</td>\n",
       "      <td>...</td>\n",
       "      <td>0.004092</td>\n",
       "      <td>0.003777</td>\n",
       "      <td>0.004782</td>\n",
       "      <td>0.004598</td>\n",
       "      <td>0.003848</td>\n",
       "      <td>0.004585</td>\n",
       "      <td>0.003360</td>\n",
       "      <td>0.004186</td>\n",
       "      <td>0.004684</td>\n",
       "      <td>0.002043</td>\n",
       "    </tr>\n",
       "    <tr>\n",
       "      <th>5</th>\n",
       "      <td>Actinobacteria_Actinobacteria_Actinomycetales_...</td>\n",
       "      <td>0.012532</td>\n",
       "      <td>0.010683</td>\n",
       "      <td>0.011426</td>\n",
       "      <td>0.011427</td>\n",
       "      <td>0.014902</td>\n",
       "      <td>0.011373</td>\n",
       "      <td>0.011143</td>\n",
       "      <td>0.014789</td>\n",
       "      <td>0.011854</td>\n",
       "      <td>...</td>\n",
       "      <td>0.013393</td>\n",
       "      <td>0.011504</td>\n",
       "      <td>0.011035</td>\n",
       "      <td>0.012323</td>\n",
       "      <td>0.013119</td>\n",
       "      <td>0.010580</td>\n",
       "      <td>0.014747</td>\n",
       "      <td>0.010466</td>\n",
       "      <td>0.011055</td>\n",
       "      <td>0.012444</td>\n",
       "    </tr>\n",
       "    <tr>\n",
       "      <th>6</th>\n",
       "      <td>Actinobacteria_Actinobacteria_Actinomycetales_...</td>\n",
       "      <td>0.004055</td>\n",
       "      <td>0.004345</td>\n",
       "      <td>0.003502</td>\n",
       "      <td>0.003571</td>\n",
       "      <td>0.003639</td>\n",
       "      <td>0.003963</td>\n",
       "      <td>0.003429</td>\n",
       "      <td>0.004577</td>\n",
       "      <td>0.004295</td>\n",
       "      <td>...</td>\n",
       "      <td>0.005208</td>\n",
       "      <td>0.003949</td>\n",
       "      <td>0.004598</td>\n",
       "      <td>0.005518</td>\n",
       "      <td>0.005422</td>\n",
       "      <td>0.003350</td>\n",
       "      <td>0.005040</td>\n",
       "      <td>0.004535</td>\n",
       "      <td>0.003185</td>\n",
       "      <td>0.004643</td>\n",
       "    </tr>\n",
       "    <tr>\n",
       "      <th>7</th>\n",
       "      <td>Actinobacteria_Actinobacteria_Actinomycetales_...</td>\n",
       "      <td>0.004055</td>\n",
       "      <td>0.006156</td>\n",
       "      <td>0.004792</td>\n",
       "      <td>0.004999</td>\n",
       "      <td>0.004159</td>\n",
       "      <td>0.005859</td>\n",
       "      <td>0.004286</td>\n",
       "      <td>0.004754</td>\n",
       "      <td>0.003264</td>\n",
       "      <td>...</td>\n",
       "      <td>0.003906</td>\n",
       "      <td>0.003434</td>\n",
       "      <td>0.005334</td>\n",
       "      <td>0.003495</td>\n",
       "      <td>0.005422</td>\n",
       "      <td>0.004408</td>\n",
       "      <td>0.004107</td>\n",
       "      <td>0.003837</td>\n",
       "      <td>0.003560</td>\n",
       "      <td>0.006315</td>\n",
       "    </tr>\n",
       "    <tr>\n",
       "      <th>8</th>\n",
       "      <td>Actinobacteria_Actinobacteria_Actinomycetales_...</td>\n",
       "      <td>0.004792</td>\n",
       "      <td>0.004527</td>\n",
       "      <td>0.005345</td>\n",
       "      <td>0.004642</td>\n",
       "      <td>0.003812</td>\n",
       "      <td>0.002930</td>\n",
       "      <td>0.003772</td>\n",
       "      <td>0.002641</td>\n",
       "      <td>0.006185</td>\n",
       "      <td>...</td>\n",
       "      <td>0.005394</td>\n",
       "      <td>0.004293</td>\n",
       "      <td>0.005886</td>\n",
       "      <td>0.005702</td>\n",
       "      <td>0.002799</td>\n",
       "      <td>0.006524</td>\n",
       "      <td>0.004107</td>\n",
       "      <td>0.004884</td>\n",
       "      <td>0.004310</td>\n",
       "      <td>0.006501</td>\n",
       "    </tr>\n",
       "    <tr>\n",
       "      <th>9</th>\n",
       "      <td>Actinobacteria_Actinobacteria_Actinomycetales_...</td>\n",
       "      <td>0.005898</td>\n",
       "      <td>0.005251</td>\n",
       "      <td>0.004239</td>\n",
       "      <td>0.004821</td>\n",
       "      <td>0.003292</td>\n",
       "      <td>0.004997</td>\n",
       "      <td>0.005829</td>\n",
       "      <td>0.006338</td>\n",
       "      <td>0.005326</td>\n",
       "      <td>...</td>\n",
       "      <td>0.002976</td>\n",
       "      <td>0.005151</td>\n",
       "      <td>0.004414</td>\n",
       "      <td>0.003862</td>\n",
       "      <td>0.004023</td>\n",
       "      <td>0.004937</td>\n",
       "      <td>0.004667</td>\n",
       "      <td>0.004535</td>\n",
       "      <td>0.005621</td>\n",
       "      <td>0.005201</td>\n",
       "    </tr>\n",
       "  </tbody>\n",
       "</table>\n",
       "<p>10 rows × 765 columns</p>\n",
       "</div>"
      ],
      "text/plain": [
       "                                        Microbe Name  HE0Sample_0  \\\n",
       "0  Acidobacteria_Acidobacteria_Gp1_Telmatobacter_...     0.004239   \n",
       "1            Acidobacteria_Acidobacteria_Gp3_Gp3_Gp3     0.013269   \n",
       "2  Actinobacteria_Actinobacteria_Acidimicrobiales...     0.003502   \n",
       "3  Actinobacteria_Actinobacteria_Actinomycetales_...     0.003870   \n",
       "4  Actinobacteria_Actinobacteria_Actinomycetales_...     0.004976   \n",
       "5  Actinobacteria_Actinobacteria_Actinomycetales_...     0.012532   \n",
       "6  Actinobacteria_Actinobacteria_Actinomycetales_...     0.004055   \n",
       "7  Actinobacteria_Actinobacteria_Actinomycetales_...     0.004055   \n",
       "8  Actinobacteria_Actinobacteria_Actinomycetales_...     0.004792   \n",
       "9  Actinobacteria_Actinobacteria_Actinomycetales_...     0.005898   \n",
       "\n",
       "   HE0Sample_1  HE0Sample_2  HE0Sample_3  HE0Sample_4  HE0Sample_5  \\\n",
       "0     0.004345     0.004423     0.004463     0.005372     0.004136   \n",
       "1     0.012312     0.011611     0.013033     0.013689     0.012752   \n",
       "2     0.005251     0.006082     0.003749     0.004332     0.004136   \n",
       "3     0.005794     0.005345     0.004106     0.002946     0.003963   \n",
       "4     0.003802     0.004239     0.004285     0.005198     0.004136   \n",
       "5     0.010683     0.011426     0.011427     0.014902     0.011373   \n",
       "6     0.004345     0.003502     0.003571     0.003639     0.003963   \n",
       "7     0.006156     0.004792     0.004999     0.004159     0.005859   \n",
       "8     0.004527     0.005345     0.004642     0.003812     0.002930   \n",
       "9     0.005251     0.004239     0.004821     0.003292     0.004997   \n",
       "\n",
       "   HE0Sample_6  HE0Sample_7  HE0Sample_8  ...  HE0Sample_754  HE0Sample_755  \\\n",
       "0     0.004457     0.004049     0.004638  ...       0.004464       0.004636   \n",
       "1     0.009772     0.012148     0.013743  ...       0.010603       0.013565   \n",
       "2     0.004972     0.004930     0.004638  ...       0.003906       0.002919   \n",
       "3     0.005315     0.003697     0.005326  ...       0.005394       0.004979   \n",
       "4     0.003257     0.002993     0.003264  ...       0.004092       0.003777   \n",
       "5     0.011143     0.014789     0.011854  ...       0.013393       0.011504   \n",
       "6     0.003429     0.004577     0.004295  ...       0.005208       0.003949   \n",
       "7     0.004286     0.004754     0.003264  ...       0.003906       0.003434   \n",
       "8     0.003772     0.002641     0.006185  ...       0.005394       0.004293   \n",
       "9     0.005829     0.006338     0.005326  ...       0.002976       0.005151   \n",
       "\n",
       "   HE0Sample_756  HE0Sample_757  HE0Sample_758  HE0Sample_759  HE0Sample_760  \\\n",
       "0       0.004046       0.005518       0.005073       0.003527       0.005413   \n",
       "1       0.012139       0.012875       0.013294       0.014107       0.012694   \n",
       "2       0.004782       0.006070       0.003498       0.004408       0.004853   \n",
       "3       0.004598       0.005518       0.005597       0.004761       0.004293   \n",
       "4       0.004782       0.004598       0.003848       0.004585       0.003360   \n",
       "5       0.011035       0.012323       0.013119       0.010580       0.014747   \n",
       "6       0.004598       0.005518       0.005422       0.003350       0.005040   \n",
       "7       0.005334       0.003495       0.005422       0.004408       0.004107   \n",
       "8       0.005886       0.005702       0.002799       0.006524       0.004107   \n",
       "9       0.004414       0.003862       0.004023       0.004937       0.004667   \n",
       "\n",
       "   HE0Sample_761  HE0Sample_762  HE0Sample_763  \n",
       "0       0.003140       0.002998       0.004829  \n",
       "1       0.013082       0.008244       0.010401  \n",
       "2       0.004012       0.004310       0.005758  \n",
       "3       0.005233       0.004497       0.005386  \n",
       "4       0.004186       0.004684       0.002043  \n",
       "5       0.010466       0.011055       0.012444  \n",
       "6       0.004535       0.003185       0.004643  \n",
       "7       0.003837       0.003560       0.006315  \n",
       "8       0.004884       0.004310       0.006501  \n",
       "9       0.004535       0.005621       0.005201  \n",
       "\n",
       "[10 rows x 765 columns]"
      ]
     },
     "execution_count": 12,
     "metadata": {},
     "output_type": "execute_result"
    }
   ],
   "source": [
    "HE0_df.head(10)"
   ]
  },
  {
   "cell_type": "markdown",
   "metadata": {},
   "source": [
    "### 1. In the context of statistical analysis, why do biologists need multiple samples to identify microbes with significantly altered abundance?\n",
    "\n",
    "Biologists need muliple samples to reduce the standard deviation of the data correpsonding to each microboe. This helps them to conclude, with a greater confidence, which mircobes are present in more numbers than usual."
   ]
  },
  {
   "cell_type": "markdown",
   "metadata": {},
   "source": [
    "### 2. How many samples were analyzed?\n",
    "Number of samples analyzed were: 764"
   ]
  },
  {
   "cell_type": "code",
   "execution_count": 21,
   "metadata": {},
   "outputs": [
    {
     "data": {
      "text/plain": [
       "764"
      ]
     },
     "execution_count": 21,
     "metadata": {},
     "output_type": "execute_result"
    }
   ],
   "source": [
    "len(HE0_df.set_index(\"Microbe Name\").columns)"
   ]
  },
  {
   "cell_type": "markdown",
   "metadata": {},
   "source": [
    "### 3. How many microbes were identified?\n",
    "Number of different micorbes idenified were: 149"
   ]
  },
  {
   "cell_type": "code",
   "execution_count": 26,
   "metadata": {},
   "outputs": [
    {
     "data": {
      "text/plain": [
       "149"
      ]
     },
     "execution_count": 26,
     "metadata": {},
     "output_type": "execute_result"
    }
   ],
   "source": [
    "HE0_df.groupby(\"Microbe Name\").count().sum()[0]"
   ]
  },
  {
   "cell_type": "markdown",
   "metadata": {},
   "source": [
    "## 1. Bayesian Network for Quality Control"
   ]
  },
  {
   "cell_type": "markdown",
   "metadata": {},
   "source": [
    "### a. Joint Probability Factorization\n",
    "T = storage temp,\n",
    "M = collection method,\n",
    "C = contamination,\n",
    "L = Lab time,\n",
    "Q = quality\n",
    "\n",
    "$$ P(joint) = P(Q,C,L,M,T) = P(Q|C,L,M,T) * P(C|M,T,L) * P(M|T,L) * P(T|L) * P(L)$$ \n",
    "$$ P(Q,C,L,M,T) = P(Q|C,L) * P(C|M,T) * P(M) * P(T) * P(L)$$"
   ]
  },
  {
   "cell_type": "markdown",
   "metadata": {},
   "source": [
    "### b. Parameters Required\n",
    "Number of values taken by:\n",
    "C=2,\n",
    "L=2,\n",
    "T=2,\n",
    "M=2,\n",
    "Q=2\n",
    "\n",
    "Parameters needed are: 2x2x1x1x1 = 4"
   ]
  },
  {
   "cell_type": "markdown",
   "metadata": {},
   "source": [
    "### c. Constructing Probability Tables"
   ]
  },
  {
   "cell_type": "markdown",
   "metadata": {},
   "source": [
    "### d. Final Probability Tables"
   ]
  },
  {
   "cell_type": "markdown",
   "metadata": {},
   "source": [
    "### e. Cleaning the dataset"
   ]
  },
  {
   "cell_type": "markdown",
   "metadata": {},
   "source": [
    "## 2. Data Standardization"
   ]
  },
  {
   "cell_type": "markdown",
   "metadata": {},
   "source": [
    "### 1. Verify Relative Abundance"
   ]
  },
  {
   "cell_type": "markdown",
   "metadata": {},
   "source": [
    "### 2. Discussion on Relative Abundance Data"
   ]
  },
  {
   "cell_type": "markdown",
   "metadata": {},
   "source": [
    "## 3. Visual Inspection"
   ]
  },
  {
   "cell_type": "markdown",
   "metadata": {},
   "source": [
    "# Task 2: Statistical Analysis"
   ]
  },
  {
   "cell_type": "markdown",
   "metadata": {},
   "source": [
    "## 1. Kolmogorov-Smirnov (KS) Test"
   ]
  },
  {
   "cell_type": "markdown",
   "metadata": {},
   "source": [
    "### a. p-value for Two-Sample KS Test"
   ]
  },
  {
   "cell_type": "markdown",
   "metadata": {},
   "source": [
    "### b. Null Hypothesis of the KS Test in our Context"
   ]
  },
  {
   "cell_type": "markdown",
   "metadata": {},
   "source": [
    "### c. Number of Genes with Significantly Altered Expression at Various Alpha Values"
   ]
  },
  {
   "cell_type": "markdown",
   "metadata": {},
   "source": [
    "## 2. Multiple Testing"
   ]
  },
  {
   "cell_type": "markdown",
   "metadata": {},
   "source": [
    "### a. P-value"
   ]
  },
  {
   "cell_type": "markdown",
   "metadata": {},
   "source": [
    "### b. P-value Distribution"
   ]
  },
  {
   "cell_type": "markdown",
   "metadata": {},
   "source": [
    "### c. Expected Number of Significant p-values"
   ]
  },
  {
   "cell_type": "markdown",
   "metadata": {},
   "source": [
    "### d. Q-Q plot of p-values"
   ]
  },
  {
   "cell_type": "markdown",
   "metadata": {},
   "source": [
    "#### i. "
   ]
  },
  {
   "cell_type": "markdown",
   "metadata": {},
   "source": [
    "#### ii. "
   ]
  },
  {
   "cell_type": "markdown",
   "metadata": {},
   "source": [
    "#### iii. "
   ]
  },
  {
   "cell_type": "markdown",
   "metadata": {},
   "source": [
    "#### iv. "
   ]
  },
  {
   "cell_type": "markdown",
   "metadata": {},
   "source": [
    "#### v. "
   ]
  },
  {
   "cell_type": "markdown",
   "metadata": {},
   "source": [
    "#### vi. "
   ]
  },
  {
   "cell_type": "markdown",
   "metadata": {},
   "source": [
    "### e. Follow-up Questions"
   ]
  },
  {
   "cell_type": "markdown",
   "metadata": {},
   "source": [
    "#### i. "
   ]
  },
  {
   "cell_type": "markdown",
   "metadata": {},
   "source": [
    "#### ii. "
   ]
  },
  {
   "cell_type": "markdown",
   "metadata": {},
   "source": [
    "# Task 3: Dimensionality Reduction and Clustering"
   ]
  },
  {
   "cell_type": "markdown",
   "metadata": {},
   "source": [
    "## 1. PCA"
   ]
  },
  {
   "cell_type": "markdown",
   "metadata": {},
   "source": [
    "### a. Performing PCA"
   ]
  },
  {
   "cell_type": "markdown",
   "metadata": {},
   "source": [
    "\n",
    "### b. Ordering Components"
   ]
  },
  {
   "cell_type": "markdown",
   "metadata": {},
   "source": [
    "### c. Scatter Plot of Microbe Abundance"
   ]
  },
  {
   "cell_type": "markdown",
   "metadata": {},
   "source": [
    "## 2. t-SNE"
   ]
  },
  {
   "cell_type": "markdown",
   "metadata": {},
   "source": [
    "### a. Performing t-SNE"
   ]
  },
  {
   "cell_type": "markdown",
   "metadata": {},
   "source": [
    "### b. Comparing with PCA"
   ]
  },
  {
   "cell_type": "markdown",
   "metadata": {},
   "source": [
    "## 3. Clustering"
   ]
  },
  {
   "cell_type": "markdown",
   "metadata": {},
   "source": [
    "### a. K-Means"
   ]
  },
  {
   "cell_type": "markdown",
   "metadata": {},
   "source": [
    "### b. GMM"
   ]
  },
  {
   "cell_type": "markdown",
   "metadata": {},
   "source": [
    "### c. Single and Complete Linkage Hierarchical"
   ]
  },
  {
   "cell_type": "markdown",
   "metadata": {},
   "source": [
    "### d. Single vs Complete Link Hierarchical Clustering"
   ]
  },
  {
   "cell_type": "markdown",
   "metadata": {},
   "source": [
    "### e. Comparing Clustering Techniques"
   ]
  },
  {
   "cell_type": "markdown",
   "metadata": {},
   "source": [
    "### f. What do Clusters Represent"
   ]
  },
  {
   "cell_type": "markdown",
   "metadata": {},
   "source": [
    "### g. Deciding on Number of Clusters"
   ]
  },
  {
   "cell_type": "markdown",
   "metadata": {},
   "source": [
    "# Task 4: Interpreting Results"
   ]
  },
  {
   "cell_type": "markdown",
   "metadata": {},
   "source": [
    "## 1. Identify Microbes with Altered Abundance Levels"
   ]
  },
  {
   "cell_type": "markdown",
   "metadata": {},
   "source": [
    "### a. Determine if each HE1 Subpopulation shows altered abundance levels"
   ]
  },
  {
   "cell_type": "markdown",
   "metadata": {},
   "source": [
    "### b. Identify Most Similar HE0 Clusters to Affected HE1 Clusters"
   ]
  },
  {
   "cell_type": "markdown",
   "metadata": {},
   "source": [
    "### c. Identify Microbes with Significantly Altered Relative Abundance"
   ]
  },
  {
   "cell_type": "markdown",
   "metadata": {},
   "source": [
    "## 2. Identify How Abundance Changes"
   ]
  },
  {
   "cell_type": "markdown",
   "metadata": {},
   "source": [
    "### a. Microbes which increase and decrease"
   ]
  },
  {
   "cell_type": "markdown",
   "metadata": {},
   "source": [
    "### b. Biological Relations"
   ]
  },
  {
   "cell_type": "code",
   "execution_count": null,
   "metadata": {},
   "outputs": [],
   "source": []
  }
 ],
 "metadata": {
  "kernelspec": {
   "display_name": "Python 3",
   "language": "python",
   "name": "python3"
  },
  "language_info": {
   "codemirror_mode": {
    "name": "ipython",
    "version": 3
   },
   "file_extension": ".py",
   "mimetype": "text/x-python",
   "name": "python",
   "nbconvert_exporter": "python",
   "pygments_lexer": "ipython3",
   "version": "3.6.8"
  }
 },
 "nbformat": 4,
 "nbformat_minor": 2
}
