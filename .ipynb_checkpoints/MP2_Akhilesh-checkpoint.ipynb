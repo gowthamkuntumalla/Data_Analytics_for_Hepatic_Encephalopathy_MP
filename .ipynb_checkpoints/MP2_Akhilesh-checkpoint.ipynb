{
 "cells": [
  {
   "cell_type": "markdown",
   "metadata": {},
   "source": [
    "# ECE 498 DS Mini Project 2"
   ]
  },
  {
   "cell_type": "markdown",
   "metadata": {},
   "source": [
    "## Akhilesh Somani - somani4,\n",
    "## Gowtham Kuntumalla - gowtham4,\n",
    "## Manan Mehta - mananm2"
   ]
  },
  {
   "cell_type": "markdown",
   "metadata": {},
   "source": [
    "# Task 1: Data Cleaning and Visual Inspection"
   ]
  },
  {
   "cell_type": "markdown",
   "metadata": {},
   "source": [
    "## 0. Getting Started With the Data"
   ]
  },
  {
   "cell_type": "code",
   "execution_count": 1,
   "metadata": {},
   "outputs": [],
   "source": [
    "import numpy as np\n",
    "import pandas as pd\n",
    "import scipy as sp"
   ]
  },
  {
   "cell_type": "code",
   "execution_count": 2,
   "metadata": {},
   "outputs": [],
   "source": [
    "he0_df=pd.read_csv(\"RelativeAbundance_HE0.csv\")"
   ]
  },
  {
   "cell_type": "markdown",
   "metadata": {},
   "source": [
    "### 1. In the context of statistical analysis, why do biologists need multiple samples to identify microbes with significantly altered abundance?\n",
    "\n",
    "Biologists need muliple samples to reduce the standard deviation of the data correpsonding to each microboe. This helps them to conclude, with a greater confidence, which mircobes are present in more numbers than usual."
   ]
  },
  {
   "cell_type": "markdown",
   "metadata": {},
   "source": [
    "### 2. How many samples were analyzed?\n",
    "Number of samples analyzed were: 764"
   ]
  },
  {
   "cell_type": "code",
   "execution_count": 3,
   "metadata": {},
   "outputs": [
    {
     "data": {
      "text/plain": [
       "764"
      ]
     },
     "execution_count": 3,
     "metadata": {},
     "output_type": "execute_result"
    }
   ],
   "source": [
    "len(he0_df.set_index(\"Microbe Name\").columns)"
   ]
  },
  {
   "cell_type": "markdown",
   "metadata": {},
   "source": [
    "### 3. How many microbes were identified?\n",
    "Number of different micorbes idenified were: 149"
   ]
  },
  {
   "cell_type": "code",
   "execution_count": 4,
   "metadata": {},
   "outputs": [
    {
     "data": {
      "text/plain": [
       "149"
      ]
     },
     "execution_count": 4,
     "metadata": {},
     "output_type": "execute_result"
    }
   ],
   "source": [
    "he0_df.groupby(\"Microbe Name\").count().sum()[0]"
   ]
  },
  {
   "cell_type": "markdown",
   "metadata": {},
   "source": [
    "## 1. Bayesian Network for Quality Control"
   ]
  },
  {
   "cell_type": "markdown",
   "metadata": {},
   "source": [
    "### a. Joint Probability Factorization\n",
    "T = storage temp,\n",
    "M = collection method,\n",
    "C = contamination,\n",
    "L = Lab time,\n",
    "Q = quality\n",
    "\n",
    "$$ P(joint) = P(Q,C,L,M,T) = P(Q|C,L,M,T) * P(C|M,T,L) * P(M|T,L) * P(T|L) * P(L)$$ \n",
    "$$ P(Q,C,L,M,T) = P(Q|C,L) * P(C|M,T) * P(M) * P(T) * P(L)$$"
   ]
  },
  {
   "cell_type": "markdown",
   "metadata": {},
   "source": [
    "### b. Parameters Required\n",
    "Number of values taken by:\n",
    "C=2,\n",
    "L=2,\n",
    "T=2,\n",
    "M=2,\n",
    "Q=2\n",
    "\n",
    "Parameters needed are: (2x2)+(2x2)+1+1+1 = 11"
   ]
  },
  {
   "cell_type": "markdown",
   "metadata": {},
   "source": [
    "### c. Constructing Probability Tables"
   ]
  },
  {
   "cell_type": "code",
   "execution_count": 5,
   "metadata": {},
   "outputs": [],
   "source": [
    "qc_df=pd.read_csv(\"QualityControl.csv\")"
   ]
  },
  {
   "cell_type": "code",
   "execution_count": 6,
   "metadata": {
    "scrolled": true
   },
   "outputs": [
    {
     "name": "stdout",
     "output_type": "stream",
     "text": [
      "strtmp\n",
      "cold    0.8982\n",
      "cool    0.1018\n",
      "Name: qual, dtype: float64\n",
      "\n",
      "\n",
      "coll\n",
      "nurse      0.8976\n",
      "patient    0.1024\n",
      "Name: qual, dtype: float64\n",
      "\n",
      "\n",
      "labtime\n",
      "long     0.2044\n",
      "short    0.7956\n",
      "Name: qual, dtype: float64\n",
      "\n",
      "\n"
     ]
    }
   ],
   "source": [
    "#P(T),P(M),P(T)\n",
    "feature=[\"strtmp\",\"coll\",\"labtime\"]\n",
    "sub_features=[[\"cold\",\"cool\"],[\"nurse\",\"patient\"],[\"short\",\"long\"]]\n",
    "for i in range(3):\n",
    "    z=qc_df.groupby(feature[i]).count()\n",
    "    z.loc[sub_features[i][0]], z.loc[sub_features[i][1]] = z.loc[sub_features[i][0]]/z.sum(), z.loc[sub_features[i][1]]/z.sum()\n",
    "    print(z.loc[:,'qual'])\n",
    "    print(\"\\n\")"
   ]
  },
  {
   "cell_type": "code",
   "execution_count": 7,
   "metadata": {
    "scrolled": false
   },
   "outputs": [
    {
     "name": "stdout",
     "output_type": "stream",
     "text": [
      "cont  labtime  qual\n",
      "high  long     bad     0.966102\n",
      "               good    0.033898\n",
      "      short    bad     0.064257\n",
      "               good    0.935743\n",
      "low   long     bad     0.080997\n",
      "               good    0.919003\n",
      "      short    bad     0.042907\n",
      "               good    0.957093\n",
      "Name: strtmp, dtype: float64\n"
     ]
    }
   ],
   "source": [
    "#P(Q|C,L)\n",
    "z=qc_df.groupby([\"cont\",\"labtime\",\"qual\"]).count()\n",
    "temp=qc_df.groupby([\"cont\",\"labtime\"]).count()\n",
    "for i in ['high','low']:\n",
    "    for j in ['long','short']:\n",
    "        for k in ['bad','good']:\n",
    "            z.loc[i,j,k]=z.loc[i,j,k]/temp.loc[i,j]\n",
    "        \n",
    "print(z.loc[:,'strtmp'])"
   ]
  },
  {
   "cell_type": "code",
   "execution_count": 8,
   "metadata": {},
   "outputs": [
    {
     "name": "stdout",
     "output_type": "stream",
     "text": [
      "coll     strtmp  cont\n",
      "nurse    cold    high    0.043983\n",
      "                 low     0.956017\n",
      "         cool    high    0.088435\n",
      "                 low     0.911565\n",
      "patient  cold    high    0.076577\n",
      "                 low     0.923423\n",
      "         cool    high    0.838235\n",
      "                 low     0.161765\n",
      "Name: qual, dtype: float64\n"
     ]
    }
   ],
   "source": [
    "#P(C|M,T)\n",
    "z=qc_df.groupby([\"coll\",\"strtmp\",\"cont\"]).count()\n",
    "temp=qc_df.groupby([\"coll\",\"strtmp\"]).count()\n",
    "for i in ['nurse','patient']:\n",
    "    for j in ['cold','cool']:\n",
    "        for k in ['high','low']:\n",
    "            z.loc[i,j,k]=z.loc[i,j,k]/temp.loc[i,j]\n",
    "        \n",
    "print(z.loc[:,'qual'])"
   ]
  },
  {
   "cell_type": "markdown",
   "metadata": {},
   "source": [
    "### d. Final Probability Tables: Calculate P(Quality|Storage Temp, Collection Method, Lab Time)"
   ]
  },
  {
   "cell_type": "code",
   "execution_count": 9,
   "metadata": {},
   "outputs": [
    {
     "name": "stdout",
     "output_type": "stream",
     "text": [
      "                                 cont\n",
      "strtmp coll    labtime qual          \n",
      "cold   nurse   long    bad   0.112038\n",
      "                       good  0.887962\n",
      "               short   bad   0.044888\n",
      "                       good  0.955112\n",
      "       patient long    bad   0.137931\n",
      "                       good  0.862069\n",
      "               short   bad   0.056022\n",
      "                       good  0.943978\n",
      "cool   nurse   long    bad   0.177215\n",
      "                       good  0.822785\n",
      "               short   bad   0.027624\n",
      "                       good  0.972376\n",
      "       patient long    bad   0.882353\n",
      "                       good  0.117647\n",
      "               short   bad   0.039216\n",
      "                       good  0.960784\n"
     ]
    }
   ],
   "source": [
    "#P(Q|T,M,L)\n",
    "\n",
    "cpd=qc_df.groupby([\"strtmp\",\"coll\",\"labtime\",\"qual\"]).count()\n",
    "temp=qc_df.groupby([\"strtmp\",\"coll\",\"labtime\"]).count()\n",
    "\n",
    "for i in ['cold','cool']:\n",
    "    for j in ['nurse','patient']:\n",
    "        for k in ['long','short']:\n",
    "            for l in ['bad','good']:\n",
    "                cpd.loc[i,j,k,l]=cpd.loc[i,j,k,l]/temp.loc[i,j,k]\n",
    "        \n",
    "print(cpd)"
   ]
  },
  {
   "cell_type": "markdown",
   "metadata": {},
   "source": [
    "### e. Cleaning the dataset"
   ]
  },
  {
   "cell_type": "code",
   "execution_count": 10,
   "metadata": {},
   "outputs": [
    {
     "name": "stdout",
     "output_type": "stream",
     "text": [
      "Samples that are bad in HE0 Dataset are:\n",
      "\n",
      "699    HE0Sample_699\n",
      "700    HE0Sample_700\n",
      "701    HE0Sample_701\n",
      "702    HE0Sample_702\n",
      "703    HE0Sample_703\n",
      "704    HE0Sample_704\n",
      "705    HE0Sample_705\n",
      "706    HE0Sample_706\n",
      "707    HE0Sample_707\n",
      "708    HE0Sample_708\n",
      "709    HE0Sample_709\n",
      "710    HE0Sample_710\n",
      "711    HE0Sample_711\n",
      "712    HE0Sample_712\n",
      "713    HE0Sample_713\n",
      "714    HE0Sample_714\n",
      "715    HE0Sample_715\n",
      "716    HE0Sample_716\n",
      "717    HE0Sample_717\n",
      "718    HE0Sample_718\n",
      "719    HE0Sample_719\n",
      "720    HE0Sample_720\n",
      "721    HE0Sample_721\n",
      "722    HE0Sample_722\n",
      "723    HE0Sample_723\n",
      "724    HE0Sample_724\n",
      "725    HE0Sample_725\n",
      "726    HE0Sample_726\n",
      "727    HE0Sample_727\n",
      "728    HE0Sample_728\n",
      "           ...      \n",
      "734    HE0Sample_734\n",
      "735    HE0Sample_735\n",
      "736    HE0Sample_736\n",
      "737    HE0Sample_737\n",
      "738    HE0Sample_738\n",
      "739    HE0Sample_739\n",
      "740    HE0Sample_740\n",
      "741    HE0Sample_741\n",
      "742    HE0Sample_742\n",
      "743    HE0Sample_743\n",
      "744    HE0Sample_744\n",
      "745    HE0Sample_745\n",
      "746    HE0Sample_746\n",
      "747    HE0Sample_747\n",
      "748    HE0Sample_748\n",
      "749    HE0Sample_749\n",
      "750    HE0Sample_750\n",
      "751    HE0Sample_751\n",
      "752    HE0Sample_752\n",
      "753    HE0Sample_753\n",
      "754    HE0Sample_754\n",
      "755    HE0Sample_755\n",
      "756    HE0Sample_756\n",
      "757    HE0Sample_757\n",
      "758    HE0Sample_758\n",
      "759    HE0Sample_759\n",
      "760    HE0Sample_760\n",
      "761    HE0Sample_761\n",
      "762    HE0Sample_762\n",
      "763    HE0Sample_763\n",
      "Name: SampleName, Length: 65, dtype: object\n",
      "Samples that are bad in HE1 Dataset are:\n",
      "\n",
      "699    HE1Sample_699\n",
      "700    HE1Sample_700\n",
      "701    HE1Sample_701\n",
      "702    HE1Sample_702\n",
      "703    HE1Sample_703\n",
      "704    HE1Sample_704\n",
      "705    HE1Sample_705\n",
      "706    HE1Sample_706\n",
      "707    HE1Sample_707\n",
      "708    HE1Sample_708\n",
      "709    HE1Sample_709\n",
      "710    HE1Sample_710\n",
      "711    HE1Sample_711\n",
      "712    HE1Sample_712\n",
      "713    HE1Sample_713\n",
      "714    HE1Sample_714\n",
      "715    HE1Sample_715\n",
      "716    HE1Sample_716\n",
      "717    HE1Sample_717\n",
      "718    HE1Sample_718\n",
      "719    HE1Sample_719\n",
      "720    HE1Sample_720\n",
      "721    HE1Sample_721\n",
      "722    HE1Sample_722\n",
      "723    HE1Sample_723\n",
      "724    HE1Sample_724\n",
      "725    HE1Sample_725\n",
      "726    HE1Sample_726\n",
      "727    HE1Sample_727\n",
      "728    HE1Sample_728\n",
      "           ...      \n",
      "734    HE1Sample_734\n",
      "735    HE1Sample_735\n",
      "736    HE1Sample_736\n",
      "737    HE1Sample_737\n",
      "738    HE1Sample_738\n",
      "739    HE1Sample_739\n",
      "740    HE1Sample_740\n",
      "741    HE1Sample_741\n",
      "742    HE1Sample_742\n",
      "743    HE1Sample_743\n",
      "744    HE1Sample_744\n",
      "745    HE1Sample_745\n",
      "746    HE1Sample_746\n",
      "747    HE1Sample_747\n",
      "748    HE1Sample_748\n",
      "749    HE1Sample_749\n",
      "750    HE1Sample_750\n",
      "751    HE1Sample_751\n",
      "752    HE1Sample_752\n",
      "753    HE1Sample_753\n",
      "754    HE1Sample_754\n",
      "755    HE1Sample_755\n",
      "756    HE1Sample_756\n",
      "757    HE1Sample_757\n",
      "758    HE1Sample_758\n",
      "759    HE1Sample_759\n",
      "760    HE1Sample_760\n",
      "761    HE1Sample_761\n",
      "762    HE1Sample_762\n",
      "763    HE1Sample_763\n",
      "Name: SampleName, Length: 65, dtype: object\n"
     ]
    }
   ],
   "source": [
    "bi_he0_df=pd.read_csv('BayesInferenceHE0.csv')\n",
    "bi_he1_df=pd.read_csv('BayesInferenceHE1.csv')\n",
    "\n",
    "bi_he0_df['prob']=0\n",
    "bi_he1_df['prob']=0\n",
    "\n",
    "bi_he0_df['prob']=[cpd.loc[bi_he0_df['strtmp'].iloc[i],bi_he0_df['coll'].iloc[i],bi_he0_df['labtime'].iloc[i],'bad'][0]\\\n",
    "                           for i in range(len(bi_he0_df))]\n",
    "\n",
    "bi_he1_df['prob']=[cpd.loc[bi_he1_df['strtmp'].iloc[i],bi_he1_df['coll'].iloc[i],bi_he1_df['labtime'].iloc[i],'bad'][0]\\\n",
    "                           for i in range(len(bi_he1_df))]\n",
    "\n",
    "idx1=(bi_he0_df['prob']>0.5)\n",
    "print(\"Samples that are bad in HE0 Dataset are:\\n\")\n",
    "print(bi_he0_df['SampleName'][idx1])\n",
    "\n",
    "idx2=(bi_he1_df['prob']>0.5)\n",
    "print(\"Samples that are bad in HE1 Dataset are:\\n\")\n",
    "print(bi_he1_df['SampleName'][idx2])"
   ]
  },
  {
   "cell_type": "markdown",
   "metadata": {},
   "source": [
    "## 2. Data Standardization"
   ]
  },
  {
   "cell_type": "markdown",
   "metadata": {},
   "source": [
    "### 1. Verify Relative Abundance"
   ]
  },
  {
   "cell_type": "markdown",
   "metadata": {},
   "source": [
    "### 2. Discussion on Relative Abundance Data"
   ]
  },
  {
   "cell_type": "markdown",
   "metadata": {},
   "source": [
    "## 3. Visual Inspection"
   ]
  },
  {
   "cell_type": "markdown",
   "metadata": {},
   "source": [
    "# Task 2: Statistical Analysis"
   ]
  },
  {
   "cell_type": "markdown",
   "metadata": {},
   "source": [
    "## 1. Kolmogorov-Smirnov (KS) Test"
   ]
  },
  {
   "cell_type": "markdown",
   "metadata": {},
   "source": [
    "### a. p-value for Two-Sample KS Test"
   ]
  },
  {
   "cell_type": "markdown",
   "metadata": {},
   "source": [
    "### b. Null Hypothesis of the KS Test in our Context"
   ]
  },
  {
   "cell_type": "markdown",
   "metadata": {},
   "source": [
    "### c. Number of Genes with Significantly Altered Expression at Various Alpha Values"
   ]
  },
  {
   "cell_type": "markdown",
   "metadata": {},
   "source": [
    "## 2. Multiple Testing"
   ]
  },
  {
   "cell_type": "markdown",
   "metadata": {},
   "source": [
    "### a. P-value"
   ]
  },
  {
   "cell_type": "markdown",
   "metadata": {},
   "source": [
    "### b. P-value Distribution"
   ]
  },
  {
   "cell_type": "markdown",
   "metadata": {},
   "source": [
    "### c. Expected Number of Significant p-values"
   ]
  },
  {
   "cell_type": "markdown",
   "metadata": {},
   "source": [
    "### d. Q-Q plot of p-values"
   ]
  },
  {
   "cell_type": "markdown",
   "metadata": {},
   "source": [
    "#### i. "
   ]
  },
  {
   "cell_type": "markdown",
   "metadata": {},
   "source": [
    "#### ii. "
   ]
  },
  {
   "cell_type": "markdown",
   "metadata": {},
   "source": [
    "#### iii. "
   ]
  },
  {
   "cell_type": "markdown",
   "metadata": {},
   "source": [
    "#### iv. "
   ]
  },
  {
   "cell_type": "markdown",
   "metadata": {},
   "source": [
    "#### v. "
   ]
  },
  {
   "cell_type": "markdown",
   "metadata": {},
   "source": [
    "#### vi. "
   ]
  },
  {
   "cell_type": "markdown",
   "metadata": {},
   "source": [
    "### e. Follow-up Questions"
   ]
  },
  {
   "cell_type": "markdown",
   "metadata": {},
   "source": [
    "#### i. "
   ]
  },
  {
   "cell_type": "markdown",
   "metadata": {},
   "source": [
    "#### ii. "
   ]
  },
  {
   "cell_type": "markdown",
   "metadata": {},
   "source": [
    "# Task 3: Dimensionality Reduction and Clustering"
   ]
  },
  {
   "cell_type": "markdown",
   "metadata": {},
   "source": [
    "## 1. PCA"
   ]
  },
  {
   "cell_type": "markdown",
   "metadata": {},
   "source": [
    "### a. Performing PCA"
   ]
  },
  {
   "cell_type": "markdown",
   "metadata": {},
   "source": [
    "\n",
    "### b. Ordering Components"
   ]
  },
  {
   "cell_type": "markdown",
   "metadata": {},
   "source": [
    "### c. Scatter Plot of Microbe Abundance"
   ]
  },
  {
   "cell_type": "markdown",
   "metadata": {},
   "source": [
    "## 2. t-SNE"
   ]
  },
  {
   "cell_type": "markdown",
   "metadata": {},
   "source": [
    "### a. Performing t-SNE"
   ]
  },
  {
   "cell_type": "markdown",
   "metadata": {},
   "source": [
    "### b. Comparing with PCA"
   ]
  },
  {
   "cell_type": "markdown",
   "metadata": {},
   "source": [
    "## 3. Clustering"
   ]
  },
  {
   "cell_type": "markdown",
   "metadata": {},
   "source": [
    "### a. K-Means"
   ]
  },
  {
   "cell_type": "markdown",
   "metadata": {},
   "source": [
    "### b. GMM"
   ]
  },
  {
   "cell_type": "markdown",
   "metadata": {},
   "source": [
    "### c. Single and Complete Linkage Hierarchical"
   ]
  },
  {
   "cell_type": "markdown",
   "metadata": {},
   "source": [
    "### d. Single vs Complete Link Hierarchical Clustering"
   ]
  },
  {
   "cell_type": "markdown",
   "metadata": {},
   "source": [
    "### e. Comparing Clustering Techniques"
   ]
  },
  {
   "cell_type": "markdown",
   "metadata": {},
   "source": [
    "### f. What do Clusters Represent"
   ]
  },
  {
   "cell_type": "markdown",
   "metadata": {},
   "source": [
    "### g. Deciding on Number of Clusters"
   ]
  },
  {
   "cell_type": "markdown",
   "metadata": {},
   "source": [
    "# Task 4: Interpreting Results"
   ]
  },
  {
   "cell_type": "markdown",
   "metadata": {},
   "source": [
    "## 1. Identify Microbes with Altered Abundance Levels"
   ]
  },
  {
   "cell_type": "markdown",
   "metadata": {},
   "source": [
    "### a. Determine if each HE1 Subpopulation shows altered abundance levels"
   ]
  },
  {
   "cell_type": "markdown",
   "metadata": {},
   "source": [
    "### b. Identify Most Similar HE0 Clusters to Affected HE1 Clusters"
   ]
  },
  {
   "cell_type": "markdown",
   "metadata": {},
   "source": [
    "### c. Identify Microbes with Significantly Altered Relative Abundance"
   ]
  },
  {
   "cell_type": "markdown",
   "metadata": {},
   "source": [
    "## 2. Identify How Abundance Changes"
   ]
  },
  {
   "cell_type": "markdown",
   "metadata": {},
   "source": [
    "### a. Microbes which increase and decrease"
   ]
  },
  {
   "cell_type": "markdown",
   "metadata": {},
   "source": [
    "### b. Biological Relations"
   ]
  },
  {
   "cell_type": "code",
   "execution_count": null,
   "metadata": {},
   "outputs": [],
   "source": []
  }
 ],
 "metadata": {
  "kernelspec": {
   "display_name": "Python 3",
   "language": "python",
   "name": "python3"
  },
  "language_info": {
   "codemirror_mode": {
    "name": "ipython",
    "version": 3
   },
   "file_extension": ".py",
   "mimetype": "text/x-python",
   "name": "python",
   "nbconvert_exporter": "python",
   "pygments_lexer": "ipython3",
   "version": "3.6.8"
  }
 },
 "nbformat": 4,
 "nbformat_minor": 2
}
