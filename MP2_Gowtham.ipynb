{
 "cells": [
  {
   "cell_type": "markdown",
   "metadata": {},
   "source": [
    "# ECE 498 DS Mini Project 2 - Template"
   ]
  },
  {
   "cell_type": "markdown",
   "metadata": {},
   "source": [
    "# Fill NetIDs Here\n",
    "\n",
    "gowtham4, somani4, mananm2"
   ]
  },
  {
   "cell_type": "code",
   "execution_count": 1,
   "metadata": {},
   "outputs": [],
   "source": [
    "# libraries and packages\n",
    "\n",
    "import numpy as np\n",
    "import pandas as pd\n",
    "import matplotlib.pyplot as plt\n",
    "from seaborn import heatmap as sns_heatmap\n",
    "from scipy.stats import ks_2samp as ks_test\n",
    "from sklearn.decomposition import PCA as PCA\n",
    "from sklearn.manifold import TSNE\n",
    "\n",
    "from sklearn.cluster import k_means_ as Kmeans\n",
    "from sklearn.mixture import GaussianMixture as GMM\n",
    "from sklearn.cluster import AgglomerativeClustering as AggClustering"
   ]
  },
  {
   "cell_type": "markdown",
   "metadata": {},
   "source": [
    "# Task 1: Data Cleaning and Visual Inspection"
   ]
  },
  {
   "cell_type": "code",
   "execution_count": 2,
   "metadata": {},
   "outputs": [],
   "source": [
    "# Import all CSV data\n",
    "bayes_inf_HE0 = pd.read_csv('BayesInferenceHE0.csv')\n",
    "bayes_inf_HE1 = pd.read_csv('BayesInferenceHE1.csv')\n",
    "quality = pd.read_csv('QualityControl.csv')\n",
    "rel_abdnce_HE0 = pd.read_csv('RelativeAbundance_HE0.csv')\n",
    "rel_abdnce_HE1 = pd.read_csv('RelativeAbundance_HE1.csv')"
   ]
  },
  {
   "cell_type": "code",
   "execution_count": 3,
   "metadata": {},
   "outputs": [
    {
     "data": {
      "text/html": [
       "<div>\n",
       "<style scoped>\n",
       "    .dataframe tbody tr th:only-of-type {\n",
       "        vertical-align: middle;\n",
       "    }\n",
       "\n",
       "    .dataframe tbody tr th {\n",
       "        vertical-align: top;\n",
       "    }\n",
       "\n",
       "    .dataframe thead th {\n",
       "        text-align: right;\n",
       "    }\n",
       "</style>\n",
       "<table border=\"1\" class=\"dataframe\">\n",
       "  <thead>\n",
       "    <tr style=\"text-align: right;\">\n",
       "      <th></th>\n",
       "      <th>Microbe Name</th>\n",
       "      <th>HE0Sample_0</th>\n",
       "      <th>HE0Sample_1</th>\n",
       "      <th>HE0Sample_2</th>\n",
       "      <th>HE0Sample_3</th>\n",
       "      <th>HE0Sample_4</th>\n",
       "      <th>HE0Sample_5</th>\n",
       "      <th>HE0Sample_6</th>\n",
       "      <th>HE0Sample_7</th>\n",
       "      <th>HE0Sample_8</th>\n",
       "      <th>...</th>\n",
       "      <th>HE0Sample_754</th>\n",
       "      <th>HE0Sample_755</th>\n",
       "      <th>HE0Sample_756</th>\n",
       "      <th>HE0Sample_757</th>\n",
       "      <th>HE0Sample_758</th>\n",
       "      <th>HE0Sample_759</th>\n",
       "      <th>HE0Sample_760</th>\n",
       "      <th>HE0Sample_761</th>\n",
       "      <th>HE0Sample_762</th>\n",
       "      <th>HE0Sample_763</th>\n",
       "    </tr>\n",
       "  </thead>\n",
       "  <tbody>\n",
       "    <tr>\n",
       "      <td>0</td>\n",
       "      <td>Acidobacteria_Acidobacteria_Gp1_Telmatobacter_...</td>\n",
       "      <td>0.004239</td>\n",
       "      <td>0.004345</td>\n",
       "      <td>0.004423</td>\n",
       "      <td>0.004463</td>\n",
       "      <td>0.005372</td>\n",
       "      <td>0.004136</td>\n",
       "      <td>0.004457</td>\n",
       "      <td>0.004049</td>\n",
       "      <td>0.004638</td>\n",
       "      <td>...</td>\n",
       "      <td>0.004464</td>\n",
       "      <td>0.004636</td>\n",
       "      <td>0.004046</td>\n",
       "      <td>0.005518</td>\n",
       "      <td>0.005073</td>\n",
       "      <td>0.003527</td>\n",
       "      <td>0.005413</td>\n",
       "      <td>0.003140</td>\n",
       "      <td>0.002998</td>\n",
       "      <td>0.004829</td>\n",
       "    </tr>\n",
       "    <tr>\n",
       "      <td>1</td>\n",
       "      <td>Acidobacteria_Acidobacteria_Gp3_Gp3_Gp3</td>\n",
       "      <td>0.013269</td>\n",
       "      <td>0.012312</td>\n",
       "      <td>0.011611</td>\n",
       "      <td>0.013033</td>\n",
       "      <td>0.013689</td>\n",
       "      <td>0.012752</td>\n",
       "      <td>0.009772</td>\n",
       "      <td>0.012148</td>\n",
       "      <td>0.013743</td>\n",
       "      <td>...</td>\n",
       "      <td>0.010603</td>\n",
       "      <td>0.013565</td>\n",
       "      <td>0.012139</td>\n",
       "      <td>0.012875</td>\n",
       "      <td>0.013294</td>\n",
       "      <td>0.014107</td>\n",
       "      <td>0.012694</td>\n",
       "      <td>0.013082</td>\n",
       "      <td>0.008244</td>\n",
       "      <td>0.010401</td>\n",
       "    </tr>\n",
       "    <tr>\n",
       "      <td>2</td>\n",
       "      <td>Actinobacteria_Actinobacteria_Acidimicrobiales...</td>\n",
       "      <td>0.003502</td>\n",
       "      <td>0.005251</td>\n",
       "      <td>0.006082</td>\n",
       "      <td>0.003749</td>\n",
       "      <td>0.004332</td>\n",
       "      <td>0.004136</td>\n",
       "      <td>0.004972</td>\n",
       "      <td>0.004930</td>\n",
       "      <td>0.004638</td>\n",
       "      <td>...</td>\n",
       "      <td>0.003906</td>\n",
       "      <td>0.002919</td>\n",
       "      <td>0.004782</td>\n",
       "      <td>0.006070</td>\n",
       "      <td>0.003498</td>\n",
       "      <td>0.004408</td>\n",
       "      <td>0.004853</td>\n",
       "      <td>0.004012</td>\n",
       "      <td>0.004310</td>\n",
       "      <td>0.005758</td>\n",
       "    </tr>\n",
       "    <tr>\n",
       "      <td>3</td>\n",
       "      <td>Actinobacteria_Actinobacteria_Actinomycetales_...</td>\n",
       "      <td>0.003870</td>\n",
       "      <td>0.005794</td>\n",
       "      <td>0.005345</td>\n",
       "      <td>0.004106</td>\n",
       "      <td>0.002946</td>\n",
       "      <td>0.003963</td>\n",
       "      <td>0.005315</td>\n",
       "      <td>0.003697</td>\n",
       "      <td>0.005326</td>\n",
       "      <td>...</td>\n",
       "      <td>0.005394</td>\n",
       "      <td>0.004979</td>\n",
       "      <td>0.004598</td>\n",
       "      <td>0.005518</td>\n",
       "      <td>0.005597</td>\n",
       "      <td>0.004761</td>\n",
       "      <td>0.004293</td>\n",
       "      <td>0.005233</td>\n",
       "      <td>0.004497</td>\n",
       "      <td>0.005386</td>\n",
       "    </tr>\n",
       "    <tr>\n",
       "      <td>4</td>\n",
       "      <td>Actinobacteria_Actinobacteria_Actinomycetales_...</td>\n",
       "      <td>0.004976</td>\n",
       "      <td>0.003802</td>\n",
       "      <td>0.004239</td>\n",
       "      <td>0.004285</td>\n",
       "      <td>0.005198</td>\n",
       "      <td>0.004136</td>\n",
       "      <td>0.003257</td>\n",
       "      <td>0.002993</td>\n",
       "      <td>0.003264</td>\n",
       "      <td>...</td>\n",
       "      <td>0.004092</td>\n",
       "      <td>0.003777</td>\n",
       "      <td>0.004782</td>\n",
       "      <td>0.004598</td>\n",
       "      <td>0.003848</td>\n",
       "      <td>0.004585</td>\n",
       "      <td>0.003360</td>\n",
       "      <td>0.004186</td>\n",
       "      <td>0.004684</td>\n",
       "      <td>0.002043</td>\n",
       "    </tr>\n",
       "    <tr>\n",
       "      <td>...</td>\n",
       "      <td>...</td>\n",
       "      <td>...</td>\n",
       "      <td>...</td>\n",
       "      <td>...</td>\n",
       "      <td>...</td>\n",
       "      <td>...</td>\n",
       "      <td>...</td>\n",
       "      <td>...</td>\n",
       "      <td>...</td>\n",
       "      <td>...</td>\n",
       "      <td>...</td>\n",
       "      <td>...</td>\n",
       "      <td>...</td>\n",
       "      <td>...</td>\n",
       "      <td>...</td>\n",
       "      <td>...</td>\n",
       "      <td>...</td>\n",
       "      <td>...</td>\n",
       "      <td>...</td>\n",
       "      <td>...</td>\n",
       "      <td>...</td>\n",
       "    </tr>\n",
       "    <tr>\n",
       "      <td>144</td>\n",
       "      <td>Tenericutes_Mollicutes_Anaeroplasmatales_Anaer...</td>\n",
       "      <td>0.004792</td>\n",
       "      <td>0.003983</td>\n",
       "      <td>0.004976</td>\n",
       "      <td>0.004285</td>\n",
       "      <td>0.003985</td>\n",
       "      <td>0.003963</td>\n",
       "      <td>0.003429</td>\n",
       "      <td>0.005458</td>\n",
       "      <td>0.005154</td>\n",
       "      <td>...</td>\n",
       "      <td>0.004464</td>\n",
       "      <td>0.005666</td>\n",
       "      <td>0.004782</td>\n",
       "      <td>0.005518</td>\n",
       "      <td>0.003848</td>\n",
       "      <td>0.005466</td>\n",
       "      <td>0.005973</td>\n",
       "      <td>0.004186</td>\n",
       "      <td>0.006933</td>\n",
       "      <td>0.005386</td>\n",
       "    </tr>\n",
       "    <tr>\n",
       "      <td>145</td>\n",
       "      <td>Tenericutes_Mollicutes_Haloplasmatales_Halopla...</td>\n",
       "      <td>0.004976</td>\n",
       "      <td>0.004345</td>\n",
       "      <td>0.004792</td>\n",
       "      <td>0.007499</td>\n",
       "      <td>0.004332</td>\n",
       "      <td>0.003274</td>\n",
       "      <td>0.004286</td>\n",
       "      <td>0.004930</td>\n",
       "      <td>0.003951</td>\n",
       "      <td>...</td>\n",
       "      <td>0.003720</td>\n",
       "      <td>0.004636</td>\n",
       "      <td>0.006805</td>\n",
       "      <td>0.003678</td>\n",
       "      <td>0.005947</td>\n",
       "      <td>0.004585</td>\n",
       "      <td>0.003547</td>\n",
       "      <td>0.004710</td>\n",
       "      <td>0.005059</td>\n",
       "      <td>0.005201</td>\n",
       "    </tr>\n",
       "    <tr>\n",
       "      <td>146</td>\n",
       "      <td>Tenericutes_Mollicutes_Mycoplasmatales_Mycopla...</td>\n",
       "      <td>0.013638</td>\n",
       "      <td>0.010139</td>\n",
       "      <td>0.011611</td>\n",
       "      <td>0.010891</td>\n",
       "      <td>0.009184</td>\n",
       "      <td>0.009478</td>\n",
       "      <td>0.013544</td>\n",
       "      <td>0.014261</td>\n",
       "      <td>0.012541</td>\n",
       "      <td>...</td>\n",
       "      <td>0.010417</td>\n",
       "      <td>0.013565</td>\n",
       "      <td>0.010116</td>\n",
       "      <td>0.011219</td>\n",
       "      <td>0.012944</td>\n",
       "      <td>0.011638</td>\n",
       "      <td>0.011200</td>\n",
       "      <td>0.010291</td>\n",
       "      <td>0.009743</td>\n",
       "      <td>0.014673</td>\n",
       "    </tr>\n",
       "    <tr>\n",
       "      <td>147</td>\n",
       "      <td>Thermodesulfobacteria_Thermodesulfobacteria_Th...</td>\n",
       "      <td>0.003870</td>\n",
       "      <td>0.003802</td>\n",
       "      <td>0.004423</td>\n",
       "      <td>0.003571</td>\n",
       "      <td>0.004159</td>\n",
       "      <td>0.004825</td>\n",
       "      <td>0.004972</td>\n",
       "      <td>0.003345</td>\n",
       "      <td>0.004810</td>\n",
       "      <td>...</td>\n",
       "      <td>0.005766</td>\n",
       "      <td>0.005151</td>\n",
       "      <td>0.003862</td>\n",
       "      <td>0.005334</td>\n",
       "      <td>0.004898</td>\n",
       "      <td>0.003879</td>\n",
       "      <td>0.004107</td>\n",
       "      <td>0.005058</td>\n",
       "      <td>0.003935</td>\n",
       "      <td>0.001857</td>\n",
       "    </tr>\n",
       "    <tr>\n",
       "      <td>148</td>\n",
       "      <td>Verrucomicrobia_Verrucomicrobiae_Verrucomicrob...</td>\n",
       "      <td>0.005345</td>\n",
       "      <td>0.004164</td>\n",
       "      <td>0.006450</td>\n",
       "      <td>0.006427</td>\n",
       "      <td>0.003466</td>\n",
       "      <td>0.004480</td>\n",
       "      <td>0.003943</td>\n",
       "      <td>0.004754</td>\n",
       "      <td>0.003608</td>\n",
       "      <td>...</td>\n",
       "      <td>0.004092</td>\n",
       "      <td>0.005495</td>\n",
       "      <td>0.005518</td>\n",
       "      <td>0.004782</td>\n",
       "      <td>0.005248</td>\n",
       "      <td>0.003703</td>\n",
       "      <td>0.005787</td>\n",
       "      <td>0.003663</td>\n",
       "      <td>0.005434</td>\n",
       "      <td>0.005015</td>\n",
       "    </tr>\n",
       "  </tbody>\n",
       "</table>\n",
       "<p>149 rows × 765 columns</p>\n",
       "</div>"
      ],
      "text/plain": [
       "                                          Microbe Name  HE0Sample_0  \\\n",
       "0    Acidobacteria_Acidobacteria_Gp1_Telmatobacter_...     0.004239   \n",
       "1              Acidobacteria_Acidobacteria_Gp3_Gp3_Gp3     0.013269   \n",
       "2    Actinobacteria_Actinobacteria_Acidimicrobiales...     0.003502   \n",
       "3    Actinobacteria_Actinobacteria_Actinomycetales_...     0.003870   \n",
       "4    Actinobacteria_Actinobacteria_Actinomycetales_...     0.004976   \n",
       "..                                                 ...          ...   \n",
       "144  Tenericutes_Mollicutes_Anaeroplasmatales_Anaer...     0.004792   \n",
       "145  Tenericutes_Mollicutes_Haloplasmatales_Halopla...     0.004976   \n",
       "146  Tenericutes_Mollicutes_Mycoplasmatales_Mycopla...     0.013638   \n",
       "147  Thermodesulfobacteria_Thermodesulfobacteria_Th...     0.003870   \n",
       "148  Verrucomicrobia_Verrucomicrobiae_Verrucomicrob...     0.005345   \n",
       "\n",
       "     HE0Sample_1  HE0Sample_2  HE0Sample_3  HE0Sample_4  HE0Sample_5  \\\n",
       "0       0.004345     0.004423     0.004463     0.005372     0.004136   \n",
       "1       0.012312     0.011611     0.013033     0.013689     0.012752   \n",
       "2       0.005251     0.006082     0.003749     0.004332     0.004136   \n",
       "3       0.005794     0.005345     0.004106     0.002946     0.003963   \n",
       "4       0.003802     0.004239     0.004285     0.005198     0.004136   \n",
       "..           ...          ...          ...          ...          ...   \n",
       "144     0.003983     0.004976     0.004285     0.003985     0.003963   \n",
       "145     0.004345     0.004792     0.007499     0.004332     0.003274   \n",
       "146     0.010139     0.011611     0.010891     0.009184     0.009478   \n",
       "147     0.003802     0.004423     0.003571     0.004159     0.004825   \n",
       "148     0.004164     0.006450     0.006427     0.003466     0.004480   \n",
       "\n",
       "     HE0Sample_6  HE0Sample_7  HE0Sample_8  ...  HE0Sample_754  HE0Sample_755  \\\n",
       "0       0.004457     0.004049     0.004638  ...       0.004464       0.004636   \n",
       "1       0.009772     0.012148     0.013743  ...       0.010603       0.013565   \n",
       "2       0.004972     0.004930     0.004638  ...       0.003906       0.002919   \n",
       "3       0.005315     0.003697     0.005326  ...       0.005394       0.004979   \n",
       "4       0.003257     0.002993     0.003264  ...       0.004092       0.003777   \n",
       "..           ...          ...          ...  ...            ...            ...   \n",
       "144     0.003429     0.005458     0.005154  ...       0.004464       0.005666   \n",
       "145     0.004286     0.004930     0.003951  ...       0.003720       0.004636   \n",
       "146     0.013544     0.014261     0.012541  ...       0.010417       0.013565   \n",
       "147     0.004972     0.003345     0.004810  ...       0.005766       0.005151   \n",
       "148     0.003943     0.004754     0.003608  ...       0.004092       0.005495   \n",
       "\n",
       "     HE0Sample_756  HE0Sample_757  HE0Sample_758  HE0Sample_759  \\\n",
       "0         0.004046       0.005518       0.005073       0.003527   \n",
       "1         0.012139       0.012875       0.013294       0.014107   \n",
       "2         0.004782       0.006070       0.003498       0.004408   \n",
       "3         0.004598       0.005518       0.005597       0.004761   \n",
       "4         0.004782       0.004598       0.003848       0.004585   \n",
       "..             ...            ...            ...            ...   \n",
       "144       0.004782       0.005518       0.003848       0.005466   \n",
       "145       0.006805       0.003678       0.005947       0.004585   \n",
       "146       0.010116       0.011219       0.012944       0.011638   \n",
       "147       0.003862       0.005334       0.004898       0.003879   \n",
       "148       0.005518       0.004782       0.005248       0.003703   \n",
       "\n",
       "     HE0Sample_760  HE0Sample_761  HE0Sample_762  HE0Sample_763  \n",
       "0         0.005413       0.003140       0.002998       0.004829  \n",
       "1         0.012694       0.013082       0.008244       0.010401  \n",
       "2         0.004853       0.004012       0.004310       0.005758  \n",
       "3         0.004293       0.005233       0.004497       0.005386  \n",
       "4         0.003360       0.004186       0.004684       0.002043  \n",
       "..             ...            ...            ...            ...  \n",
       "144       0.005973       0.004186       0.006933       0.005386  \n",
       "145       0.003547       0.004710       0.005059       0.005201  \n",
       "146       0.011200       0.010291       0.009743       0.014673  \n",
       "147       0.004107       0.005058       0.003935       0.001857  \n",
       "148       0.005787       0.003663       0.005434       0.005015  \n",
       "\n",
       "[149 rows x 765 columns]"
      ]
     },
     "execution_count": 3,
     "metadata": {},
     "output_type": "execute_result"
    }
   ],
   "source": [
    "rel_abdnce_HE0"
   ]
  },
  {
   "cell_type": "markdown",
   "metadata": {},
   "source": [
    "## 0. Getting Started With the Data"
   ]
  },
  {
   "cell_type": "markdown",
   "metadata": {},
   "source": [
    "### 1 They need to be sure that it is statistically significant. Hypothesis needs to be backed by data."
   ]
  },
  {
   "cell_type": "markdown",
   "metadata": {},
   "source": [
    "### 2 total number of samples = 764 + 764 = 1528"
   ]
  },
  {
   "cell_type": "markdown",
   "metadata": {},
   "source": [
    "### 3 number of microbes = 149 "
   ]
  },
  {
   "cell_type": "markdown",
   "metadata": {},
   "source": [
    "## 1. Bayesian Network for Quality Control"
   ]
  },
  {
   "cell_type": "markdown",
   "metadata": {},
   "source": [
    "### a. Joint Probability Factorization"
   ]
  },
  {
   "cell_type": "markdown",
   "metadata": {},
   "source": [
    "$$ P(Storage Temp, Collection Method, Contamination, Lab Time, Quality) $$\n",
    "$$= P(Quality | Contamination, Lab Time) * P(Contamination | Storage Temp, Collection Method) * P(Storage Temp) * P(Collection Method) * P(Lab Time) $$"
   ]
  },
  {
   "cell_type": "markdown",
   "metadata": {},
   "source": [
    "### b. Parameters Required"
   ]
  },
  {
   "cell_type": "code",
   "execution_count": 4,
   "metadata": {},
   "outputs": [
    {
     "name": "stdout",
     "output_type": "stream",
     "text": [
      "all are binary features\n",
      "total parameters reqd:  11\n"
     ]
    }
   ],
   "source": [
    "print('all are binary features')\n",
    "print('total parameters reqd: ', (2**2) + (2**2) +(2-1)+(2-1)+(2-1))"
   ]
  },
  {
   "cell_type": "markdown",
   "metadata": {},
   "source": [
    "### c. Constructing Probability Tables"
   ]
  },
  {
   "cell_type": "code",
   "execution_count": 5,
   "metadata": {},
   "outputs": [
    {
     "name": "stdout",
     "output_type": "stream",
     "text": [
      "  strtmp   coll labtime  cont  qual\n",
      "0   cold  nurse   short   low  good\n",
      "1   cold  nurse   short   low  good\n",
      "2   cold  nurse   short   low   bad\n",
      "3   cold  nurse   short  high  good\n",
      "4   cold  nurse   short   low  good\n",
      "unique binary features\n"
     ]
    },
    {
     "data": {
      "text/plain": [
       "[array(['cold', 'cool'], dtype=object),\n",
       " array(['nurse', 'patient'], dtype=object),\n",
       " array(['short', 'long'], dtype=object),\n",
       " array(['low', 'high'], dtype=object),\n",
       " array(['good', 'bad'], dtype=object)]"
      ]
     },
     "execution_count": 5,
     "metadata": {},
     "output_type": "execute_result"
    }
   ],
   "source": [
    "print(quality.head())\n",
    "print('unique binary features')\n",
    "[quality[i].unique() for i in quality.columns]"
   ]
  },
  {
   "cell_type": "code",
   "execution_count": 6,
   "metadata": {},
   "outputs": [
    {
     "name": "stdout",
     "output_type": "stream",
     "text": [
      "strtmp: {'cold': 0.8982, 'cool': 0.1018}\n",
      "coll {'nurse': 0.8976, 'patient': 0.10240000000000005}\n",
      "labtime {'short': 0.7956, 'long': 0.20440000000000003} \n",
      "\n",
      "\n",
      "qual               bad      good\n",
      "cont labtime                    \n",
      "high long     0.966102  0.033898\n",
      "     short    0.064257  0.935743\n",
      "low  long     0.080997  0.919003\n",
      "     short    0.042907  0.957093 \n",
      "\n",
      "\n",
      "cont                high       low\n",
      "strtmp coll                       \n",
      "cold   nurse    0.043983  0.956017\n",
      "       patient  0.076577  0.923423\n",
      "cool   nurse    0.088435  0.911565\n",
      "       patient  0.838235  0.161765\n"
     ]
    }
   ],
   "source": [
    "# P(Storage Temp)\n",
    "\n",
    "strtmp = {} \n",
    "strtmp['cold'] = sum(quality['strtmp'] == 'cold')/ len(quality)\n",
    "strtmp['cool'] = 1 - strtmp['cold']\n",
    "print('strtmp:', strtmp)\n",
    "\n",
    "# P(Collection Method)\n",
    "\n",
    "coll = {} \n",
    "coll['nurse'] = sum(quality['coll'] == 'nurse')/ len(quality)\n",
    "coll['patient'] = 1 - coll['nurse']\n",
    "print('coll', coll)\n",
    "\n",
    "# P(Lab Time)\n",
    "labtime = {}\n",
    "labtime['short'] = sum(quality['labtime'] == 'short')/ len(quality)\n",
    "labtime['long'] = 1 - labtime['short']\n",
    "print('labtime', labtime,'\\n\\n')\n",
    "\n",
    "\n",
    "## Note the following is a complicated line of operations chained on the dataframe, lots of things are happening! \n",
    "\n",
    "# P(Quality|Contamination, Lab Time)\n",
    "\n",
    "qual_if_cont_labtime = quality.groupby(['cont','labtime','qual']).count().iloc[:,0].unstack(-1)\n",
    "qual_if_cont_labtime = qual_if_cont_labtime.apply(lambda row: row/np.sum(row), axis = 1,result_type='expand')\n",
    "print(qual_if_cont_labtime,'\\n\\n')\n",
    "\n",
    "# P(Contamination|Storage Temp, Collection Method)\n",
    "\n",
    "cont_if_strtmp_coll = quality.groupby(['strtmp','coll','cont']).count().iloc[:,0].unstack(-1)\n",
    "cont_if_strtmp_coll = cont_if_strtmp_coll.apply(lambda row: row/np.sum(row), axis = 1,result_type='expand')\n",
    "print(cont_if_strtmp_coll)\n",
    "\n"
   ]
  },
  {
   "cell_type": "markdown",
   "metadata": {},
   "source": [
    "### d. Final Probability Tables"
   ]
  },
  {
   "cell_type": "code",
   "execution_count": 7,
   "metadata": {},
   "outputs": [
    {
     "name": "stdout",
     "output_type": "stream",
     "text": [
      "qual                         bad      good\n",
      "strtmp coll    labtime                    \n",
      "cold   nurse   long     0.112038  0.887962\n",
      "               short    0.044888  0.955112\n",
      "       patient long     0.137931  0.862069\n",
      "               short    0.056022  0.943978\n",
      "cool   nurse   long     0.177215  0.822785\n",
      "               short    0.027624  0.972376\n",
      "       patient long     0.882353  0.117647\n",
      "               short    0.039216  0.960784\n"
     ]
    }
   ],
   "source": [
    "# it turns out value_counts is simpler to use\n",
    "cpt_quality = quality.groupby(['strtmp','coll','labtime'])['qual'].value_counts().unstack(-1)\n",
    "cpt_quality = cpt_quality.apply(lambda row: row/np.sum(row), axis = 1,result_type='expand').fillna(value = 0)\n",
    "print(cpt_quality)\n",
    "\n",
    "#sanity check: print(cpt_quality.apply(np.sum, axis = 1))"
   ]
  },
  {
   "cell_type": "markdown",
   "metadata": {},
   "source": [
    "### e. Cleaning the dataset"
   ]
  },
  {
   "cell_type": "code",
   "execution_count": 35,
   "metadata": {},
   "outputs": [
    {
     "name": "stdout",
     "output_type": "stream",
     "text": [
      "Quality = Good Data\n",
      "\n",
      "\n",
      "        SampleName strtmp   coll labtime\n",
      "0      HE0Sample_0   cold  nurse   short\n",
      "1      HE0Sample_1   cold  nurse   short\n",
      "2      HE0Sample_2   cold  nurse   short\n",
      "3      HE0Sample_3   cold  nurse   short\n",
      "4      HE0Sample_4   cold  nurse   short\n",
      "..             ...    ...    ...     ...\n",
      "694  HE0Sample_694   cold  nurse    long\n",
      "695  HE0Sample_695   cold  nurse    long\n",
      "696  HE0Sample_696   cold  nurse    long\n",
      "697  HE0Sample_697   cold  nurse    long\n",
      "698  HE0Sample_698   cold  nurse    long\n",
      "\n",
      "[699 rows x 4 columns]         SampleName strtmp   coll labtime\n",
      "0      HE1Sample_0   cold  nurse   short\n",
      "1      HE1Sample_1   cold  nurse   short\n",
      "2      HE1Sample_2   cold  nurse   short\n",
      "3      HE1Sample_3   cold  nurse   short\n",
      "4      HE1Sample_4   cold  nurse   short\n",
      "..             ...    ...    ...     ...\n",
      "694  HE1Sample_694   cold  nurse    long\n",
      "695  HE1Sample_695   cold  nurse    long\n",
      "696  HE1Sample_696   cold  nurse    long\n",
      "697  HE1Sample_697   cold  nurse    long\n",
      "698  HE1Sample_698   cold  nurse    long\n",
      "\n",
      "[699 rows x 4 columns] \n",
      "\n",
      "\n",
      "\n",
      "Quality = Bad Data\n",
      "\n",
      "\n",
      "699    HE0Sample_699\n",
      "700    HE0Sample_700\n",
      "701    HE0Sample_701\n",
      "702    HE0Sample_702\n",
      "703    HE0Sample_703\n",
      "           ...      \n",
      "759    HE0Sample_759\n",
      "760    HE0Sample_760\n",
      "761    HE0Sample_761\n",
      "762    HE0Sample_762\n",
      "763    HE0Sample_763\n",
      "Name: SampleName, Length: 65, dtype: object 699    HE1Sample_699\n",
      "700    HE1Sample_700\n",
      "701    HE1Sample_701\n",
      "702    HE1Sample_702\n",
      "703    HE1Sample_703\n",
      "           ...      \n",
      "759    HE1Sample_759\n",
      "760    HE1Sample_760\n",
      "761    HE1Sample_761\n",
      "762    HE1Sample_762\n",
      "763    HE1Sample_763\n",
      "Name: SampleName, Length: 65, dtype: object\n"
     ]
    }
   ],
   "source": [
    "def remove_bad_samples (df):\n",
    "    \"\"\"to clean dataset and keep only good samples\"\"\"\n",
    "    df_copy = df.copy()\n",
    "    df_copy['quality'] = df.apply(is_row_good, axis = 1,raw=True)\n",
    "    df_good = df[df_copy['quality'] == True]\n",
    "    bad_samples = df[df_copy['quality'] == False].iloc[:,0]\n",
    "    return df_good, bad_samples\n",
    "         \n",
    "    \n",
    "def is_row_good(row):\n",
    "    \"\"\" called from remove_bad_samples\"\"\"\n",
    "#     print(tuple(row[1:]))\n",
    "    return cpt_quality.loc[tuple(row[1:])][1] >= 0.5\n",
    "    \n",
    "    \n",
    "bayes_HE0,HE0_bad = remove_bad_samples(bayes_inf_HE0) \n",
    "bayes_HE1,HE1_bad = remove_bad_samples(bayes_inf_HE1) \n",
    "print('Quality = Good Data\\n\\n')\n",
    "print(bayes_HE0, bayes_HE1,'\\n\\n\\n')\n",
    "print('Quality = Bad Data\\n\\n')\n",
    "print(HE0_bad,HE1_bad)"
   ]
  },
  {
   "cell_type": "markdown",
   "metadata": {},
   "source": [
    "## 2. Data Standardization"
   ]
  },
  {
   "cell_type": "markdown",
   "metadata": {},
   "source": [
    "### 1. Verify Relative Abundance"
   ]
  },
  {
   "cell_type": "markdown",
   "metadata": {},
   "source": [
    "### 2. Discussion on Relative Abundance Data"
   ]
  },
  {
   "cell_type": "markdown",
   "metadata": {},
   "source": [
    "## 3. Visual Inspection"
   ]
  },
  {
   "cell_type": "markdown",
   "metadata": {},
   "source": [
    "# Task 2: Statistical Analysis"
   ]
  },
  {
   "cell_type": "markdown",
   "metadata": {},
   "source": [
    "## 1. Kolmogorov-Smirnov (KS) Test"
   ]
  },
  {
   "cell_type": "markdown",
   "metadata": {},
   "source": [
    "### a. p-value for Two-Sample KS Test"
   ]
  },
  {
   "cell_type": "markdown",
   "metadata": {},
   "source": [
    "### b. Null Hypothesis of the KS Test in our Context"
   ]
  },
  {
   "cell_type": "markdown",
   "metadata": {},
   "source": [
    "### c. Number of Genes with Significantly Altered Expression at Various Alpha Values"
   ]
  },
  {
   "cell_type": "markdown",
   "metadata": {},
   "source": [
    "## 2. Multiple Testing"
   ]
  },
  {
   "cell_type": "markdown",
   "metadata": {},
   "source": [
    "### a. P-value"
   ]
  },
  {
   "cell_type": "markdown",
   "metadata": {},
   "source": [
    "### b. P-value Distribution"
   ]
  },
  {
   "cell_type": "markdown",
   "metadata": {},
   "source": [
    "### c. Expected Number of Significant p-values"
   ]
  },
  {
   "cell_type": "markdown",
   "metadata": {},
   "source": [
    "### d. Q-Q plot of p-values"
   ]
  },
  {
   "cell_type": "markdown",
   "metadata": {},
   "source": [
    "#### i. "
   ]
  },
  {
   "cell_type": "markdown",
   "metadata": {},
   "source": [
    "#### ii. "
   ]
  },
  {
   "cell_type": "markdown",
   "metadata": {},
   "source": [
    "#### iii. "
   ]
  },
  {
   "cell_type": "markdown",
   "metadata": {},
   "source": [
    "#### iv. "
   ]
  },
  {
   "cell_type": "markdown",
   "metadata": {},
   "source": [
    "#### v. "
   ]
  },
  {
   "cell_type": "markdown",
   "metadata": {},
   "source": [
    "#### vi. "
   ]
  },
  {
   "cell_type": "markdown",
   "metadata": {},
   "source": [
    "### e. Follow-up Questions"
   ]
  },
  {
   "cell_type": "markdown",
   "metadata": {},
   "source": [
    "#### i. "
   ]
  },
  {
   "cell_type": "markdown",
   "metadata": {},
   "source": [
    "#### ii. "
   ]
  },
  {
   "cell_type": "markdown",
   "metadata": {},
   "source": [
    "# Task 3: Dimensionality Reduction and Clustering"
   ]
  },
  {
   "cell_type": "markdown",
   "metadata": {},
   "source": [
    "## 1. PCA"
   ]
  },
  {
   "cell_type": "markdown",
   "metadata": {},
   "source": [
    "### a. Performing PCA"
   ]
  },
  {
   "cell_type": "markdown",
   "metadata": {},
   "source": [
    "\n",
    "### b. Ordering Components"
   ]
  },
  {
   "cell_type": "markdown",
   "metadata": {},
   "source": [
    "### c. Scatter Plot of Microbe Abundance"
   ]
  },
  {
   "cell_type": "markdown",
   "metadata": {},
   "source": [
    "## 2. t-SNE"
   ]
  },
  {
   "cell_type": "markdown",
   "metadata": {},
   "source": [
    "### a. Performing t-SNE"
   ]
  },
  {
   "cell_type": "markdown",
   "metadata": {},
   "source": [
    "### b. Comparing with PCA"
   ]
  },
  {
   "cell_type": "markdown",
   "metadata": {},
   "source": [
    "## 3. Clustering"
   ]
  },
  {
   "cell_type": "markdown",
   "metadata": {},
   "source": [
    "### a. K-Means"
   ]
  },
  {
   "cell_type": "markdown",
   "metadata": {},
   "source": [
    "### b. GMM"
   ]
  },
  {
   "cell_type": "markdown",
   "metadata": {},
   "source": [
    "### c. Single and Complete Linkage Hierarchical"
   ]
  },
  {
   "cell_type": "markdown",
   "metadata": {},
   "source": [
    "### d. Single vs Complete Link Hierarchical Clustering"
   ]
  },
  {
   "cell_type": "markdown",
   "metadata": {},
   "source": [
    "### e. Comparing Clustering Techniques"
   ]
  },
  {
   "cell_type": "markdown",
   "metadata": {},
   "source": [
    "### f. What do Clusters Represent"
   ]
  },
  {
   "cell_type": "markdown",
   "metadata": {},
   "source": [
    "### g. Deciding on Number of Clusters"
   ]
  },
  {
   "cell_type": "markdown",
   "metadata": {},
   "source": [
    "# Task 4: Interpreting Results"
   ]
  },
  {
   "cell_type": "markdown",
   "metadata": {},
   "source": [
    "## 1. Identify Microbes with Altered Abundance Levels"
   ]
  },
  {
   "cell_type": "markdown",
   "metadata": {},
   "source": [
    "### a. Determine if each HE1 Subpopulation shows altered abundance levels"
   ]
  },
  {
   "cell_type": "markdown",
   "metadata": {},
   "source": [
    "### b. Identify Most Similar HE0 Clusters to Affected HE1 Clusters"
   ]
  },
  {
   "cell_type": "markdown",
   "metadata": {},
   "source": [
    "### c. Identify Microbes with Significantly Altered Relative Abundance"
   ]
  },
  {
   "cell_type": "markdown",
   "metadata": {},
   "source": [
    "## 2. Identify How Abundance Changes"
   ]
  },
  {
   "cell_type": "markdown",
   "metadata": {},
   "source": [
    "### a. Microbes which increase and decrease"
   ]
  },
  {
   "cell_type": "markdown",
   "metadata": {},
   "source": [
    "### b. Biological Relations"
   ]
  },
  {
   "cell_type": "code",
   "execution_count": null,
   "metadata": {},
   "outputs": [],
   "source": []
  }
 ],
 "metadata": {
  "kernelspec": {
   "display_name": "Python 3",
   "language": "python",
   "name": "python3"
  },
  "language_info": {
   "codemirror_mode": {
    "name": "ipython",
    "version": 3
   },
   "file_extension": ".py",
   "mimetype": "text/x-python",
   "name": "python",
   "nbconvert_exporter": "python",
   "pygments_lexer": "ipython3",
   "version": "3.6.8"
  }
 },
 "nbformat": 4,
 "nbformat_minor": 2
}
