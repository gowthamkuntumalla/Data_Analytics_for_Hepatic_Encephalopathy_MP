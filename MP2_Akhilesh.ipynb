{
 "cells": [
  {
   "cell_type": "markdown",
   "metadata": {},
   "source": [
    "# ECE 498 DS Mini Project 2"
   ]
  },
  {
   "cell_type": "markdown",
   "metadata": {},
   "source": [
    "## Akhilesh Somani - somani4,\n",
    "## Gowtham Kuntumalla - gowtham4,\n",
    "## Manan Mehta - mananm2"
   ]
  },
  {
   "cell_type": "markdown",
   "metadata": {},
   "source": [
    "# Task 1: Data Cleaning and Visual Inspection"
   ]
  },
  {
   "cell_type": "markdown",
   "metadata": {},
   "source": [
    "## 0. Getting Started With the Data"
   ]
  },
  {
   "cell_type": "code",
   "execution_count": 1,
   "metadata": {},
   "outputs": [],
   "source": [
    "import numpy as np\n",
    "import pandas as pd\n",
    "import scipy as sp"
   ]
  },
  {
   "cell_type": "code",
   "execution_count": 2,
   "metadata": {},
   "outputs": [],
   "source": [
    "he0_df=pd.read_csv(\"RelativeAbundance_HE0.csv\")"
   ]
  },
  {
   "cell_type": "markdown",
   "metadata": {},
   "source": [
    "### 1. In the context of statistical analysis, why do biologists need multiple samples to identify microbes with significantly altered abundance?\n",
    "\n",
    "Biologists need muliple samples to reduce the standard deviation of the data correpsonding to each microboe. This helps them to conclude, with a greater confidence, which mircobes are present in more numbers than usual."
   ]
  },
  {
   "cell_type": "markdown",
   "metadata": {},
   "source": [
    "### 2. How many samples were analyzed?\n",
    "Number of samples analyzed were: 764"
   ]
  },
  {
   "cell_type": "code",
   "execution_count": 3,
   "metadata": {},
   "outputs": [
    {
     "data": {
      "text/plain": [
       "764"
      ]
     },
     "execution_count": 3,
     "metadata": {},
     "output_type": "execute_result"
    }
   ],
   "source": [
    "len(he0_df.set_index(\"Microbe Name\").columns)"
   ]
  },
  {
   "cell_type": "markdown",
   "metadata": {},
   "source": [
    "### 3. How many microbes were identified?\n",
    "Number of different micorbes idenified were: 149"
   ]
  },
  {
   "cell_type": "code",
   "execution_count": 4,
   "metadata": {},
   "outputs": [
    {
     "data": {
      "text/plain": [
       "149"
      ]
     },
     "execution_count": 4,
     "metadata": {},
     "output_type": "execute_result"
    }
   ],
   "source": [
    "he0_df.groupby(\"Microbe Name\").count().sum()[0]"
   ]
  },
  {
   "cell_type": "markdown",
   "metadata": {},
   "source": [
    "## 1. Bayesian Network for Quality Control"
   ]
  },
  {
   "cell_type": "markdown",
   "metadata": {},
   "source": [
    "### a. Joint Probability Factorization\n",
    "T = storage temp,\n",
    "M = collection method,\n",
    "C = contamination,\n",
    "L = Lab time,\n",
    "Q = quality\n",
    "\n",
    "$$ P(joint) = P(Q,C,L,M,T) = P(Q|C,L,M,T) * P(C|M,T,L) * P(M|T,L) * P(T|L) * P(L)$$ \n",
    "$$ P(Q,C,L,M,T) = P(Q|C,L) * P(C|M,T) * P(M) * P(T) * P(L)$$"
   ]
  },
  {
   "cell_type": "markdown",
   "metadata": {},
   "source": [
    "### b. Parameters Required\n",
    "Number of values taken by:\n",
    "C=2,\n",
    "L=2,\n",
    "T=2,\n",
    "M=2,\n",
    "Q=2\n",
    "\n",
    "Parameters needed are: (2x2)+(2x2)+1+1+1 = 11"
   ]
  },
  {
   "cell_type": "markdown",
   "metadata": {},
   "source": [
    "### c. Constructing Probability Tables"
   ]
  },
  {
   "cell_type": "code",
   "execution_count": 5,
   "metadata": {},
   "outputs": [],
   "source": [
    "qc_df=pd.read_csv(\"QualityControl.csv\")"
   ]
  },
  {
   "cell_type": "code",
   "execution_count": 6,
   "metadata": {
    "scrolled": true
   },
   "outputs": [
    {
     "name": "stdout",
     "output_type": "stream",
     "text": [
      "strtmp\n",
      "cold    0.8982\n",
      "cool    0.1018\n",
      "Name: qual, dtype: float64\n",
      "\n",
      "\n",
      "coll\n",
      "nurse      0.8976\n",
      "patient    0.1024\n",
      "Name: qual, dtype: float64\n",
      "\n",
      "\n",
      "labtime\n",
      "long     0.2044\n",
      "short    0.7956\n",
      "Name: qual, dtype: float64\n",
      "\n",
      "\n"
     ]
    }
   ],
   "source": [
    "#P(T),P(M),P(T)\n",
    "feature=[\"strtmp\",\"coll\",\"labtime\"]\n",
    "sub_features=[[\"cold\",\"cool\"],[\"nurse\",\"patient\"],[\"short\",\"long\"]]\n",
    "for i in range(3):\n",
    "    z=qc_df.groupby(feature[i]).count()\n",
    "    z.loc[sub_features[i][0]], z.loc[sub_features[i][1]] = z.loc[sub_features[i][0]]/z.sum(), z.loc[sub_features[i][1]]/z.sum()\n",
    "    print(z.loc[:,'qual'])\n",
    "    print(\"\\n\")"
   ]
  },
  {
   "cell_type": "code",
   "execution_count": 7,
   "metadata": {
    "scrolled": false
   },
   "outputs": [
    {
     "name": "stdout",
     "output_type": "stream",
     "text": [
      "cont  labtime  qual\n",
      "high  long     bad     0.966102\n",
      "               good    0.033898\n",
      "      short    bad     0.064257\n",
      "               good    0.935743\n",
      "low   long     bad     0.080997\n",
      "               good    0.919003\n",
      "      short    bad     0.042907\n",
      "               good    0.957093\n",
      "Name: strtmp, dtype: float64\n"
     ]
    }
   ],
   "source": [
    "#P(Q|C,L)\n",
    "z=qc_df.groupby([\"cont\",\"labtime\",\"qual\"]).count()\n",
    "temp=qc_df.groupby([\"cont\",\"labtime\"]).count()\n",
    "for i in ['high','low']:\n",
    "    for j in ['long','short']:\n",
    "        for k in ['bad','good']:\n",
    "            z.loc[i,j,k]=z.loc[i,j,k]/temp.loc[i,j]\n",
    "        \n",
    "print(z.loc[:,'strtmp'])"
   ]
  },
  {
   "cell_type": "code",
   "execution_count": 8,
   "metadata": {},
   "outputs": [
    {
     "name": "stdout",
     "output_type": "stream",
     "text": [
      "coll     strtmp  cont\n",
      "nurse    cold    high    0.043983\n",
      "                 low     0.956017\n",
      "         cool    high    0.088435\n",
      "                 low     0.911565\n",
      "patient  cold    high    0.076577\n",
      "                 low     0.923423\n",
      "         cool    high    0.838235\n",
      "                 low     0.161765\n",
      "Name: qual, dtype: float64\n"
     ]
    }
   ],
   "source": [
    "#P(C|M,T)\n",
    "z=qc_df.groupby([\"coll\",\"strtmp\",\"cont\"]).count()\n",
    "temp=qc_df.groupby([\"coll\",\"strtmp\"]).count()\n",
    "for i in ['nurse','patient']:\n",
    "    for j in ['cold','cool']:\n",
    "        for k in ['high','low']:\n",
    "            z.loc[i,j,k]=z.loc[i,j,k]/temp.loc[i,j]\n",
    "        \n",
    "print(z.loc[:,'qual'])"
   ]
  },
  {
   "cell_type": "markdown",
   "metadata": {},
   "source": [
    "### d. Final Probability Tables: Calculate P(Quality|Storage Temp, Collection Method, Lab Time)"
   ]
  },
  {
   "cell_type": "code",
   "execution_count": 9,
   "metadata": {},
   "outputs": [
    {
     "name": "stdout",
     "output_type": "stream",
     "text": [
      "                                 cont\n",
      "strtmp coll    labtime qual          \n",
      "cold   nurse   long    bad   0.112038\n",
      "                       good  0.887962\n",
      "               short   bad   0.044888\n",
      "                       good  0.955112\n",
      "       patient long    bad   0.137931\n",
      "                       good  0.862069\n",
      "               short   bad   0.056022\n",
      "                       good  0.943978\n",
      "cool   nurse   long    bad   0.177215\n",
      "                       good  0.822785\n",
      "               short   bad   0.027624\n",
      "                       good  0.972376\n",
      "       patient long    bad   0.882353\n",
      "                       good  0.117647\n",
      "               short   bad   0.039216\n",
      "                       good  0.960784\n"
     ]
    }
   ],
   "source": [
    "#P(Q|T,M,L)\n",
    "\n",
    "cpd=qc_df.groupby([\"strtmp\",\"coll\",\"labtime\",\"qual\"]).count()\n",
    "temp=qc_df.groupby([\"strtmp\",\"coll\",\"labtime\"]).count()\n",
    "\n",
    "for i in ['cold','cool']:\n",
    "    for j in ['nurse','patient']:\n",
    "        for k in ['long','short']:\n",
    "            for l in ['bad','good']:\n",
    "                cpd.loc[i,j,k,l]=cpd.loc[i,j,k,l]/temp.loc[i,j,k]\n",
    "        \n",
    "print(cpd)"
   ]
  },
  {
   "cell_type": "markdown",
   "metadata": {},
   "source": [
    "### e. Cleaning the dataset"
   ]
  },
  {
   "cell_type": "code",
   "execution_count": 30,
   "metadata": {},
   "outputs": [],
   "source": [
    "bi_he0_df=pd.read_csv('BayesInferenceHE0.csv')\n",
    "bi_he1_df=pd.read_csv('BayesInferenceHE1.csv')\n",
    "\n",
    "bi_he0_df['prob']=0\n",
    "bi_he1_df['prob']=0\n",
    "\n",
    "bi_he0_df['prob']=[cpd.loc[bi_he0_df['strtmp'].iloc[i],bi_he0_df['coll'].iloc[i],bi_he0_df['labtime'].iloc[i],'bad'][0]\\\n",
    "                           for i in range(len(bi_he0_df))]\n",
    "\n",
    "bi_he1_df['prob']=[cpd.loc[bi_he1_df['strtmp'].iloc[i],bi_he1_df['coll'].iloc[i],bi_he1_df['labtime'].iloc[i],'bad'][0]\\\n",
    "                           for i in range(len(bi_he1_df))]\n",
    "\n",
    "idx1=(bi_he0_df['prob']>0.5)\n",
    "idx2=(bi_he1_df['prob']>0.5)\n",
    "\n",
    "i1=bi_he0_df['SampleName'][idx1].index\n",
    "i2=bi_he1_df['SampleName'][idx2].index\n",
    "\n",
    "bi_he0_df=bi_he0_df.drop(index=i1)\n",
    "bi_he1_df=bi_he1_df.drop(index=i2)"
   ]
  },
  {
   "cell_type": "markdown",
   "metadata": {},
   "source": [
    "## 2. Data Standardization"
   ]
  },
  {
   "cell_type": "markdown",
   "metadata": {},
   "source": [
    "### 1. Verify Relative Abundance"
   ]
  },
  {
   "cell_type": "markdown",
   "metadata": {},
   "source": [
    "### 2. Discussion on Relative Abundance Data"
   ]
  },
  {
   "cell_type": "markdown",
   "metadata": {},
   "source": [
    "## 3. Visual Inspection"
   ]
  },
  {
   "cell_type": "markdown",
   "metadata": {},
   "source": [
    "# Task 2: Statistical Analysis"
   ]
  },
  {
   "cell_type": "markdown",
   "metadata": {},
   "source": [
    "## 1. Kolmogorov-Smirnov (KS) Test"
   ]
  },
  {
   "cell_type": "markdown",
   "metadata": {},
   "source": [
    "### a. p-value for Two-Sample KS Test"
   ]
  },
  {
   "cell_type": "markdown",
   "metadata": {},
   "source": [
    "### b. Null Hypothesis of the KS Test in our Context"
   ]
  },
  {
   "cell_type": "markdown",
   "metadata": {},
   "source": [
    "### c. Number of Genes with Significantly Altered Expression at Various Alpha Values"
   ]
  },
  {
   "cell_type": "markdown",
   "metadata": {},
   "source": [
    "## 2. Multiple Testing"
   ]
  },
  {
   "cell_type": "markdown",
   "metadata": {},
   "source": [
    "### a. P-value"
   ]
  },
  {
   "cell_type": "markdown",
   "metadata": {},
   "source": [
    "### b. P-value Distribution"
   ]
  },
  {
   "cell_type": "markdown",
   "metadata": {},
   "source": [
    "### c. Expected Number of Significant p-values"
   ]
  },
  {
   "cell_type": "markdown",
   "metadata": {},
   "source": [
    "### d. Q-Q plot of p-values"
   ]
  },
  {
   "cell_type": "markdown",
   "metadata": {},
   "source": [
    "#### i. "
   ]
  },
  {
   "cell_type": "markdown",
   "metadata": {},
   "source": [
    "#### ii. "
   ]
  },
  {
   "cell_type": "markdown",
   "metadata": {},
   "source": [
    "#### iii. "
   ]
  },
  {
   "cell_type": "markdown",
   "metadata": {},
   "source": [
    "#### iv. "
   ]
  },
  {
   "cell_type": "markdown",
   "metadata": {},
   "source": [
    "#### v. "
   ]
  },
  {
   "cell_type": "markdown",
   "metadata": {},
   "source": [
    "#### vi. "
   ]
  },
  {
   "cell_type": "markdown",
   "metadata": {},
   "source": [
    "### e. Follow-up Questions"
   ]
  },
  {
   "cell_type": "markdown",
   "metadata": {},
   "source": [
    "#### i. "
   ]
  },
  {
   "cell_type": "markdown",
   "metadata": {},
   "source": [
    "#### ii. "
   ]
  },
  {
   "cell_type": "markdown",
   "metadata": {},
   "source": [
    "# Task 3: Dimensionality Reduction and Clustering"
   ]
  },
  {
   "cell_type": "markdown",
   "metadata": {},
   "source": [
    "## 1. PCA"
   ]
  },
  {
   "cell_type": "markdown",
   "metadata": {},
   "source": [
    "### a. Performing PCA"
   ]
  },
  {
   "cell_type": "markdown",
   "metadata": {},
   "source": [
    "\n",
    "### b. Ordering Components"
   ]
  },
  {
   "cell_type": "markdown",
   "metadata": {},
   "source": [
    "### c. Scatter Plot of Microbe Abundance"
   ]
  },
  {
   "cell_type": "markdown",
   "metadata": {},
   "source": [
    "## 2. t-SNE"
   ]
  },
  {
   "cell_type": "markdown",
   "metadata": {},
   "source": [
    "### a. Performing t-SNE"
   ]
  },
  {
   "cell_type": "markdown",
   "metadata": {},
   "source": [
    "### b. Comparing with PCA"
   ]
  },
  {
   "cell_type": "markdown",
   "metadata": {},
   "source": [
    "## 3. Clustering"
   ]
  },
  {
   "cell_type": "markdown",
   "metadata": {},
   "source": [
    "### a. K-Means"
   ]
  },
  {
   "cell_type": "markdown",
   "metadata": {},
   "source": [
    "### b. GMM"
   ]
  },
  {
   "cell_type": "markdown",
   "metadata": {},
   "source": [
    "### c. Single and Complete Linkage Hierarchical"
   ]
  },
  {
   "cell_type": "markdown",
   "metadata": {},
   "source": [
    "### d. Single vs Complete Link Hierarchical Clustering"
   ]
  },
  {
   "cell_type": "markdown",
   "metadata": {},
   "source": [
    "### e. Comparing Clustering Techniques"
   ]
  },
  {
   "cell_type": "markdown",
   "metadata": {},
   "source": [
    "### f. What do Clusters Represent"
   ]
  },
  {
   "cell_type": "markdown",
   "metadata": {},
   "source": [
    "### g. Deciding on Number of Clusters"
   ]
  },
  {
   "cell_type": "markdown",
   "metadata": {},
   "source": [
    "# Task 4: Interpreting Results"
   ]
  },
  {
   "cell_type": "markdown",
   "metadata": {},
   "source": [
    "## 1. Identify Microbes with Altered Abundance Levels"
   ]
  },
  {
   "cell_type": "markdown",
   "metadata": {},
   "source": [
    "### a. Determine if each HE1 Subpopulation shows altered abundance levels"
   ]
  },
  {
   "cell_type": "markdown",
   "metadata": {},
   "source": [
    "### b. Identify Most Similar HE0 Clusters to Affected HE1 Clusters"
   ]
  },
  {
   "cell_type": "markdown",
   "metadata": {},
   "source": [
    "### c. Identify Microbes with Significantly Altered Relative Abundance"
   ]
  },
  {
   "cell_type": "markdown",
   "metadata": {},
   "source": [
    "## 2. Identify How Abundance Changes"
   ]
  },
  {
   "cell_type": "markdown",
   "metadata": {},
   "source": [
    "### a. Microbes which increase and decrease"
   ]
  },
  {
   "cell_type": "markdown",
   "metadata": {},
   "source": [
    "### b. Biological Relations"
   ]
  },
  {
   "cell_type": "code",
   "execution_count": null,
   "metadata": {},
   "outputs": [],
   "source": []
  }
 ],
 "metadata": {
  "kernelspec": {
   "display_name": "Python 3",
   "language": "python",
   "name": "python3"
  },
  "language_info": {
   "codemirror_mode": {
    "name": "ipython",
    "version": 3
   },
   "file_extension": ".py",
   "mimetype": "text/x-python",
   "name": "python",
   "nbconvert_exporter": "python",
   "pygments_lexer": "ipython3",
   "version": "3.6.8"
  }
 },
 "nbformat": 4,
 "nbformat_minor": 2
}
